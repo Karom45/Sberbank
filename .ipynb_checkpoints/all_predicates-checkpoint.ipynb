{
 "cells": [
  {
   "cell_type": "code",
   "execution_count": 1,
   "metadata": {},
   "outputs": [],
   "source": [
    "from fake_useragent import UserAgent\n",
    "from SPARQLWrapper import SPARQLWrapper, JSON\n",
    "import pandas as pd\n",
    "import bookquery\n",
    "ua = UserAgent()#Прокси\n",
    "    \n",
    "def execute_query(qquery, entity_id): \n",
    "    \n",
    "    \"\"\"Работа с запросами\"\"\"\n",
    "    \n",
    "    sparql = SPARQLWrapper(\"https://query.wikidata.org/sparql\",agent = ua.random)\n",
    "    sparql.setQuery(qquery.format(entity_id = entity_id))\n",
    "    sparql.setReturnFormat(JSON)\n",
    "    results = sparql.query().convert()\n",
    "    return results['results']['bindings']\n"
   ]
  },
  {
   "cell_type": "code",
   "execution_count": 6,
   "metadata": {},
   "outputs": [],
   "source": [
    "def execute_query(qquery):\n",
    "\n",
    "    \"\"\"Работа с запросами\"\"\"\n",
    "    \n",
    "    sparql = SPARQLWrapper(\"https://query.wikidata.org/sparql\",agent = ua.random)\n",
    "    sparql.setQuery(qquery)\n",
    "    sparql.setReturnFormat(JSON)\n",
    "    results = sparql.query().convert()\n",
    "    return results['results']['bindings']\n",
    "\n",
    "def entities_sparqul(results):# Обработка резульатат\n",
    "    \n",
    "    \"\"\"Функция фомирования файла со всеми приедикатами из Wikidata\"\"\"\n",
    "    \n",
    "        res = [] # Название основной сущности\n",
    "        for result in results:# Обработка вернувшегося запрсов\n",
    "            entities = {}\n",
    "            entities['property'] = result['property']['value'].split('/')[-1]\n",
    "            entities['label'] = result['propertyLabel']['value']\n",
    "            try:\n",
    "                entities['description'] = result['propertyDescription']['value'] \n",
    "            except KeyError:\n",
    "                entities['description'] = ''             \n",
    "            try:\n",
    "                entities['alternative_name'] = result['propertyAltLabel']['value'] \n",
    "            except KeyError:\n",
    "                entities['alternative_name'] = '' \n",
    "            res.append(entities)# Создаем массив словарей\n",
    "        return pd.DataFrame(data = res)#Возвращаем Датафрейм и название сущности\n",
    "path = f'csv\\Properties.csv'   \n",
    "raw_results= execute_query(bookquery.all_predicates)# Запрос\n",
    "result = entities_sparqul(raw_results)# Обработка\n",
    "result.to_csv(path,encoding='utf-8-sig',index = False,sep = ';')# Формирование"
   ]
  },
  {
   "cell_type": "code",
   "execution_count": null,
   "metadata": {},
   "outputs": [],
   "source": []
  }
 ],
 "metadata": {
  "kernelspec": {
   "display_name": "Python 3",
   "language": "python",
   "name": "python3"
  },
  "language_info": {
   "codemirror_mode": {
    "name": "ipython",
    "version": 3
   },
   "file_extension": ".py",
   "mimetype": "text/x-python",
   "name": "python",
   "nbconvert_exporter": "python",
   "pygments_lexer": "ipython3",
   "version": "3.7.4"
  }
 },
 "nbformat": 4,
 "nbformat_minor": 2
}
