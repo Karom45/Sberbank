{
 "cells": [
  {
   "cell_type": "code",
   "execution_count": 2,
   "metadata": {},
   "outputs": [],
   "source": [
    "import dask\n",
    "from fake_useragent import UserAgent\n",
    "from SPARQLWrapper import SPARQLWrapper, JSON, XML\n",
    "import pandas as pd\n",
    "import json\n",
    "import time\n",
    "import bookquery\n",
    "import os\n",
    "import io"
   ]
  },
  {
   "cell_type": "code",
   "execution_count": 3,
   "metadata": {},
   "outputs": [],
   "source": [
    "ua = UserAgent()\n",
    "bad_requests = []\n",
    "\n",
    "def execute_query(qquery, entity_id):\n",
    "    sparql = SPARQLWrapper(\"https://query.wikidata.org/sparql\", agent = ua.random)\n",
    "    sparql.setQuery(qquery.format(entity_id = entity_id))\n",
    "    sparql.setReturnFormat(JSON)\n",
    "    results = sparql.query().convert()\n",
    "    return results['results']['bindings']\n",
    "\n",
    "def entities_sparqul(entity_id, f = 0):\n",
    "        res = []\n",
    "        if f > 5:\n",
    "            global bad_requests\n",
    "            bad_requests.append(entity_id)\n",
    "            print('Bad request ', entity_id)\n",
    "            return None\n",
    "        try:\n",
    "            results= execute_query(bookquery.subclass_of_3, entity_id)\n",
    "            for result in results:\n",
    "                entities = {}\n",
    "                entities['class'] = result['show']['value'].split('/')[-1]\n",
    "                entities['classlabel'] = result['showLabel']['value']\n",
    "                entities['subclass'] = result['subclass']['value'].split('/')[-1]\n",
    "                entities['label'] = result['subclassLabel']['value']\n",
    "                res.append(entities)\n",
    "            return pd.DataFrame(data = res, columns = ['class', 'classlabel' ,'subclass', 'label'])\n",
    "        except Exception as e:\n",
    "            print(e)\n",
    "            time.sleep(5)\n",
    "            print('Try again ', entity_id, f)\n",
    "            return entities_sparqul(entity_id, f + 1)"
   ]
  },
  {
   "cell_type": "code",
   "execution_count": 5,
   "metadata": {},
   "outputs": [],
   "source": [
    "for itter in range(5):\n",
    "    res = []\n",
    "    exl = pd.read_excel('graph\\graph.xlsx', sheet_name= f'+{itter}_море') #читаешь эксель где все qid по которым надо идти наверх\n",
    "    for i in exl['subclass']:\n",
    "        res.append(entities_sparqul(i))\n",
    "    final_result = pd.concat(res)\n",
    "    with pd.ExcelWriter(r'graph\\graph.xlsx' ,  engine=\"openpyxl\" , mode  = 'a') as writer:\n",
    "            final_result.to_excel(writer, sheet_name = f'+{itter+1}_море' , encoding='utf-8-sig' , index = False)"
   ]
  },
  {
   "cell_type": "code",
   "execution_count": null,
   "metadata": {},
   "outputs": [],
   "source": []
  }
 ],
 "metadata": {
  "kernelspec": {
   "display_name": "Python 3",
   "language": "python",
   "name": "python3"
  },
  "language_info": {
   "codemirror_mode": {
    "name": "ipython",
    "version": 3
   },
   "file_extension": ".py",
   "mimetype": "text/x-python",
   "name": "python",
   "nbconvert_exporter": "python",
   "pygments_lexer": "ipython3",
   "version": "3.7.4"
  }
 },
 "nbformat": 4,
 "nbformat_minor": 4
}
