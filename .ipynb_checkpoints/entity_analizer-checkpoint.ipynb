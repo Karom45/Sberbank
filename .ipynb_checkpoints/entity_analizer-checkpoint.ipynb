{
 "cells": [
  {
   "cell_type": "code",
   "execution_count": 8,
   "metadata": {},
   "outputs": [],
   "source": [
    "from fake_useragent import UserAgent\n",
    "from os.path import join,isfile\n",
    "from os import listdir\n",
    "import dask\n",
    "import pandas as pd\n",
    "import os\n",
    "\n",
    "def counter_for_files(path):\n",
    "    \n",
    "     \"\"\"Подсчет файлов в директории\"\"\"\n",
    "        \n",
    "    onlyfiles = [join(path, f) for f in listdir(path) if isfile(join(path, f))]\n",
    "    return onlyfiles"
   ]
  },
  {
   "cell_type": "code",
   "execution_count": 9,
   "metadata": {},
   "outputs": [],
   "source": [
    "def border(df):\n",
    "    \n",
    "    \"\"\"Функция вычисления границ для количества популярных предикатов \"\"\"\n",
    "    \n",
    "    if len(df) * 0.1 > 20:\n",
    "        end = 20\n",
    "    elif len(df) * 0.1 < 10:\n",
    "        end = 10\n",
    "    else:\n",
    "        end = int(len(df) * 0.1)\n",
    "    return end"
   ]
  },
  {
   "cell_type": "code",
   "execution_count": 10,
   "metadata": {
    "scrolled": false
   },
   "outputs": [],
   "source": [
    "def predicate_analize(filename):\n",
    "    \n",
    "    \"\"\"Формирование первых 3 листов файла Analytics\"\"\"\n",
    "    path2 = join(os.getcwd() , r'Processed_predicates\\aggregated_with_popularity')\n",
    "    entity_id = filename.split('\\\\')[-1].split('_')[-2]\n",
    "    similar =[]\n",
    "    more_in_agg = []\n",
    "    more_in_pop = []\n",
    "    df1 = pd.read_excel(filename  , encoding='utf-8-sig')\n",
    "    filename = filename.split('\\\\')[-1].split('.')[0]\n",
    "    df2 =  pd.read_excel(join(path2 , filename + '_with_popularity.xlsx' ), encoding='utf-8-sig')\n",
    "    \n",
    "    end = border(df1)\n",
    "        \n",
    "    for k,v in df1[:end].iterrows():# Прохождение по файлам типа aggreagted\n",
    "        if v.signifance == 'T':\n",
    "            if list(df2[df2.prop_name ==v.prop_name].prop_counter) != []:\n",
    "#                 print(list(df2[df2.prop_name ==v.prop_name].prop_counter))\n",
    "\n",
    "                if abs(v.prop_counter - list(df2[df2.prop_name ==v.prop_name].prop_counter)[0])< 20:\n",
    "                    similar.append(f'{v.prop_name} ({round(v.prop_counter,2)}% / {round(list(df2[df2.prop_name ==v.prop_name].prop_counter)[0],2)}%)')\n",
    "            \n",
    "                elif v.prop_counter - list(df2[df2.prop_name ==v.prop_name].prop_counter)[0] >  20:\n",
    "                    more_in_agg.append(f'{v.prop_name} ({round(v.prop_counter,2)}% / {round(list(df2[df2.prop_name ==v.prop_name].prop_counter)[0],2)}%)')\n",
    "                    \n",
    "    end = border(df2)\n",
    "    \n",
    "    for k,v in df2[:end].iterrows():# прохождение по файлам типа aggregated_with_popularity\n",
    "        if v.signifance == 'T':\n",
    "            if list(df1[df1.prop_name ==v.prop_name].prop_counter) != []:\n",
    "                if abs(v.prop_counter - list(df1[df1.prop_name ==v.prop_name].prop_counter)[0])< 20 and f'{v.prop_name} ({round(list(df1[df1.prop_name ==v.prop_name].prop_counter)[0],2)}% / {round(v.prop_counter,2)}%)' not in similar:\n",
    "                    \n",
    "                    similar.append(f'{v.prop_name} ({round(list(df1[df1.prop_name ==v.prop_name].prop_counter)[0],2)}% / {round(v.prop_counter,2)}%)')\n",
    "                    \n",
    "                elif v.prop_counter - list(df1[df1.prop_name ==v.prop_name].prop_counter)[0] >  20:\n",
    "                    more_in_pop.append(f'{v.prop_name} ({round(list(df1[df1.prop_name ==v.prop_name].prop_counter)[0],2)}% / {round(v.prop_counter,2)}%)')\n",
    "    if list(df[df.subclass == entity_id].similar.isna())[0]:#запись в файл\n",
    "        ind = list(df[df.subclass == entity_id].index)[0]\n",
    "        dfs.loc[ind , 'Общие предикаты'] = ', '.join(similar)\n",
    "        dfp.loc[ind , 'Больше в популярных'] = ', '.join(more_in_pop)\n",
    "        dfa.loc[ind , 'Больше в общих'] = ', '.join(more_in_agg)\n",
    "        \n",
    "path1 = join(os.getcwd() , r'Processed_predicates\\aggregated')\n",
    "df =  pd.read_excel(r'csv\\Raw Analytics.xlsx', encoding='utf-8-sig')\n",
    "res = []\n",
    "dfs =  df.copy()\n",
    "dfp =  df.copy()\n",
    "dfa =  df.copy()\n",
    "for filename in counter_for_files(path1):\n",
    "#     predicate_analize(filename)\n",
    "    res.append(dask.delayed(predicate_analize)(filename))\n",
    "result = dask.compute(*res)\n",
    "dfs[['subclass_label' , 'subclass' , 'instance_count','Общие предикаты']].to_excel(r'csv\\Analytics.xlsx', sheet_name = 'Общие предикаты' ,encoding='utf-8-sig' , index = False)\n",
    "with pd.ExcelWriter(r'csv\\Analytics.xlsx' ,  engine=\"openpyxl\" , mode  = 'a') as writer:\n",
    "        dfp[['subclass_label' , 'subclass' , 'instance_count','Больше в популярных']].to_excel(writer, sheet_name = 'Больше в популярных' , encoding='utf-8-sig' , index = False)\n",
    "        dfa[['subclass_label' , 'subclass' , 'instance_count','Больше в общих']].to_excel(writer, sheet_name = 'Больше в общих' , encoding='utf-8-sig' , index = False)"
   ]
  },
  {
   "cell_type": "code",
   "execution_count": 11,
   "metadata": {},
   "outputs": [],
   "source": [
    "predicates = {'длина':'длина' ,\n",
    "              'ширина': 'ширина', \n",
    "              'высота над уровнем моря': 'высота над уровнем моря',\n",
    "              f'высота/рост':'высота,рост',\n",
    "              'вертикальная глубина': 'глубина' ,\n",
    "              'площадь': 'площадь' ,\n",
    "              'столица':'столица',\n",
    "              'первооткрыватель или изобретатель' :'первооткрыватель',\n",
    "              'географические координаты': 'координаты',\n",
    "              'является столицей':'является столицей',\n",
    "              'численность населения':'население' ,\n",
    "              'классификация климата Кёппена' : 'климат', \n",
    "              'официальный язык': 'официальный язык' ,\n",
    "              'изображение флага' : 'изображение флага', \n",
    "              'описание флага' : 'описание флага', \n",
    "              'часовой пояс' : 'часовой пояс',\n",
    "             'имеет границы с' : 'имеет границы с',\n",
    "             'приток' : 'приток',\n",
    "             'впадает в' : 'впадает в',\n",
    "             'находится на берегу водоёма' : 'на берегу',\n",
    "             \"государство\" : \"государство\"}\n",
    "\n",
    "def predicates_selector(predicate,predicate_name):\n",
    "    \n",
    "    \"\"\"Функция формирования последующих листов со значением для каждого предиката\"\"\"\n",
    "    \n",
    "    dff = pd.read_csv(r'csv\\Properties.csv' , encoding='utf-8-sig',sep=';')\n",
    "    for k,v in dff.iterrows():\n",
    "        if v['label'].lower() == predicate.lower():\n",
    "            property_id = v['property']\n",
    "            break\n",
    "    else:\n",
    "        property_id = 'Отсутствует'\n",
    "    path1 = join(os.getcwd() , r'Processed_predicates\\aggregated')\n",
    "    path2 = join(os.getcwd() , r'Processed_predicates\\aggregated_with_popularity')\n",
    "    df =  pd.read_excel(r'csv\\Analytics.xlsx', encoding='utf-8-sig')[['subclass_label' , 'subclass']]\n",
    "    for filename in counter_for_files(path1):\n",
    "        entity_id = filename.split('\\\\')[-1].split('_')[-2]\n",
    "        df1 = pd.read_excel(filename  , encoding='utf-8-sig')\n",
    "        filename = filename.split('\\\\')[-1].split('.')[0]\n",
    "        df2 =  pd.read_excel(join(path2 , filename + '_with_popularity.xlsx' ), encoding='utf-8-sig')\n",
    "        if list(df1[df1.prop_name ==predicate].prop_counter) == []:\n",
    "            value1 = '-'\n",
    "        else:\n",
    "            value1 = round(list(df1[df1.prop_name ==predicate].prop_counter)[0],2)\n",
    "        if list(df2[df2.prop_name ==predicate].prop_counter) == []:\n",
    "            value2 = '-'\n",
    "        else:       \n",
    "            value2 = round(list(df2[df2.prop_name ==predicate].prop_counter)[0],2)\n",
    "        ind = list(df[df.subclass == entity_id].index)[0]\n",
    "        df.loc[ind , 'Встречаемость предиката для всех (%)'] = value1\n",
    "        df.loc[ind , 'Встречаемость предиката для популярных(%)'] = value2\n",
    "    with pd.ExcelWriter(r'csv\\Analytics.xlsx' ,  engine=\"openpyxl\" , mode  = 'a') as writer:\n",
    "        df.to_excel(writer, sheet_name = f'{predicate_name}({property_id})' , encoding='utf-8-sig' , index = False)\n",
    "for k,v in predicates.items():\n",
    "    predicates_selector(k,v)\n",
    "    \n",
    "df =  pd.read_excel(r'csv\\Analytics.xlsx', encoding='utf-8-sig')[['subclass_label' , 'subclass']]#добавление пустого листа с label и label_id\n",
    "with pd.ExcelWriter(r'csv\\Analytics.xlsx' ,  engine=\"openpyxl\" , mode  = 'a') as writer:\n",
    "        df.to_excel(writer, sheet_name = f'just_labels' , encoding='utf-8-sig' , index = False)\n",
    "    "
   ]
  },
  {
   "cell_type": "code",
   "execution_count": 17,
   "metadata": {},
   "outputs": [
    {
     "ename": "SyntaxError",
     "evalue": "invalid syntax (<ipython-input-17-d8fdf25eeff6>, line 2)",
     "output_type": "error",
     "traceback": [
      "\u001b[1;36m  File \u001b[1;32m\"<ipython-input-17-d8fdf25eeff6>\"\u001b[1;36m, line \u001b[1;32m2\u001b[0m\n\u001b[1;33m    Продолжительность строительства (рукотворные объекты)\u001b[0m\n\u001b[1;37m                                  ^\u001b[0m\n\u001b[1;31mSyntaxError\u001b[0m\u001b[1;31m:\u001b[0m invalid syntax\n"
     ]
    }
   ],
   "source": [
    "Реки\n",
    "Продолжительность строительства (рукотворные объекты)\n"
   ]
  },
  {
   "cell_type": "code",
   "execution_count": null,
   "metadata": {},
   "outputs": [],
   "source": [
    "Площадь бассейна\n",
    "высота/рост\n",
    "является столицей\n",
    "население(сельское, городское , грамотное , безграмотное, женское, мужское)\n",
    "Второе название(официальное название,название на языке оригинала)"
   ]
  },
  {
   "cell_type": "code",
   "execution_count": null,
   "metadata": {},
   "outputs": [],
   "source": []
  }
 ],
 "metadata": {
  "kernelspec": {
   "display_name": "Python 3",
   "language": "python",
   "name": "python3"
  },
  "language_info": {
   "codemirror_mode": {
    "name": "ipython",
    "version": 3
   },
   "file_extension": ".py",
   "mimetype": "text/x-python",
   "name": "python",
   "nbconvert_exporter": "python",
   "pygments_lexer": "ipython3",
   "version": "3.7.4"
  }
 },
 "nbformat": 4,
 "nbformat_minor": 2
}
