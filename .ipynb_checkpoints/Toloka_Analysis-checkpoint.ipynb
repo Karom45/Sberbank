{
 "cells": [
  {
   "cell_type": "code",
   "execution_count": 23,
   "metadata": {},
   "outputs": [],
   "source": [
    "import pandas as pd\n",
    "import os\n",
    "from pymorphy2 import MorphAnalyzer\n",
    "import json\n",
    "import io\n",
    "from collections import Counter"
   ]
  },
  {
   "cell_type": "markdown",
   "metadata": {},
   "source": [
    "удаляем все нерусские лейблы"
   ]
  },
  {
   "cell_type": "code",
   "execution_count": 2,
   "metadata": {},
   "outputs": [
    {
     "name": "stdout",
     "output_type": "stream",
     "text": [
      "entities_река_Q4022.csv\n",
      "entities_республика в составе России_Q41162.csv\n",
      "entities_риф_Q184358.csv\n",
      "entities_рудник_Q820477.csv\n",
      "entities_село_Q532.csv\n",
      "entities_сельский деревенский населённый пункт_Q10354598.csv\n",
      "entities_скала_Q1404150.csv\n",
      "entities_станица_Q748331.csv\n",
      "entities_страна в составе Соединённого Королевства Великобритании и Северной Ирландии_Q3336843.csv\n",
      "entities_страна_Q6256.csv\n",
      "entities_Субконтинент_Q855697.csv\n",
      "entities_устье_Q1233637.csv\n",
      "entities_Фиард_Q319714.csv\n",
      "entities_фонтан_Q483453.csv\n",
      "entities_фьорд_Q45776.csv\n",
      "entities_часть света_Q2418896.csv\n",
      "entities_штат США_Q35657.csv\n"
     ]
    }
   ],
   "source": [
    "path = 'C:/Users/User/Desktop/Sparql/Wiki_Toloka/labels/'\n",
    "morph = MorphAnalyzer()\n",
    "res = []\n",
    "\n",
    "for top, dirs, files in os.walk(path):\n",
    "    for f in files:\n",
    "        print(f)\n",
    "        d = {}\n",
    "        d['entity'] = []\n",
    "        d['label'] = []\n",
    "        file_path = path + f\n",
    "        exl = pd.read_csv(io.open(file_path, encoding='utf-8'), sep = ';', header = 0)\n",
    "        for i in exl['label'].tolist():\n",
    "            tag = morph.parse(i)[0].tag\n",
    "            if not 'LATN' in tag:\n",
    "                d['entity'].append(exl[exl['label'] == i]['entity'].values[0])\n",
    "                d['label'].append(i)\n",
    "        res = pd.DataFrame(data = d, columns = ['entity', 'label'])\n",
    "        res.to_csv(f'C:/Users/User/Desktop/Sparql/Wiki_Toloka/rus_labels/' + f, sep = ';', encoding='utf-8-sig', index = False)"
   ]
  },
  {
   "cell_type": "markdown",
   "metadata": {},
   "source": [
    "добавляем столбец с редактированными столбцами"
   ]
  },
  {
   "cell_type": "code",
   "execution_count": 2,
   "metadata": {},
   "outputs": [],
   "source": [
    "def tokenize(s):\n",
    "    morph = MorphAnalyzer()\n",
    "    s_lower = s.lower()\n",
    "    s_tokens = [morph.parse(word)[0].normal_form if word else word\n",
    "                for word in s_lower.split()]\n",
    "    return s_tokens"
   ]
  },
  {
   "cell_type": "code",
   "execution_count": 13,
   "metadata": {},
   "outputs": [
    {
     "name": "stdout",
     "output_type": "stream",
     "text": [
      "entities_гора_Q8502.csv\n",
      "entities_горный массив_Q1061151.csv\n",
      "entities_горный хребет_Q46831.csv\n",
      "entities_город федерального значения в России_Q183342.csv\n",
      "entities_город_Q515.csv\n",
      "entities_город_Q7930989.csv\n",
      "entities_городская площадь_Q174782.csv\n",
      "entities_городской судоходный канал_Q523166.csv\n",
      "entities_Горы_Q1437459.csv\n",
      "entities_государство_Q7275.csv\n",
      "entities_группа озёр_Q5926864.csv\n",
      "entities_группа островов_Q1402592.csv\n",
      "entities_долина_Q39816.csv\n",
      "entities_достопримечательность_Q570116.csv\n",
      "entities_Жёлоб_Q119253.csv\n",
      "entities_железнодорожная станция_Q55488.csv\n",
      "entities_залив_Q39594.csv\n",
      "entities_канал_Q1210950.csv\n",
      "entities_канал_Q12284.csv\n",
      "entities_каньон_Q150784.csv\n",
      "entities_континент_Q5107.csv\n",
      "entities_край в составе России_Q831740.csv\n",
      "entities_кратер_Q3240715.csv\n",
      "entities_ледник_Q35666.csv\n",
      "entities_лес_Q4421.csv\n",
      "entities_малый город_Q3957.csv\n",
      "entities_месторождение природного газа_Q1349255.csv\n",
      "entities_месторождение_Q15104915.csv\n",
      "entities_море_Q165.csv\n",
      "entities_мост_Q12280.csv\n",
      "entities_музей_Q33506.csv\n",
      "entities_мыс_Q185113.csv\n",
      "entities_национальный объект культурного наследия_Q358.csv\n",
      "entities_нефтяное месторождение_Q211748.csv\n",
      "entities_область в составе России_Q835714.csv\n",
      "entities_озеро_Q23397.csv\n",
      "entities_океан_Q9430.csv\n",
      "entities_остров_Q23442.csv\n",
      "entities_памятник истории_Q1081138.csv\n",
      "entities_памятник_Q4989906.csv\n",
      "entities_парк_Q22698.csv\n",
      "entities_пещера_Q35509.csv\n",
      "entities_полуостров_Q34763.csv\n",
      "entities_Полушария Земли_Q399984.csv\n",
      "entities_посёлок городского типа_Q2989457.csv\n",
      "entities_пролив_Q37901.csv\n",
      "entities_пруд_Q3253281.csv\n",
      "entities_пустыня_Q8514.csv\n",
      "entities_равнина_Q160091.csv\n",
      "entities_регион_Q82794.csv\n",
      "entities_река_Q4022.csv\n",
      "entities_республика в составе России_Q41162.csv\n",
      "entities_риф_Q184358.csv\n",
      "entities_рудник_Q820477.csv\n",
      "entities_село_Q532.csv\n",
      "entities_сельский деревенский населённый пункт_Q10354598.csv\n",
      "entities_скала_Q1404150.csv\n",
      "entities_станица_Q748331.csv\n",
      "entities_страна в составе Соединённого Королевства Великобритании и Северной Ирландии_Q3336843.csv\n",
      "entities_страна_Q6256.csv\n",
      "entities_Субконтинент_Q855697.csv\n",
      "entities_устье_Q1233637.csv\n",
      "entities_Фиард_Q319714.csv\n",
      "entities_фонтан_Q483453.csv\n",
      "entities_фьорд_Q45776.csv\n",
      "entities_часть света_Q2418896.csv\n",
      "entities_штат США_Q35657.csv\n"
     ]
    }
   ],
   "source": [
    "path = 'C:/Users/User/Desktop/Sparql/Wiki_Toloka/rus_labels/'\n",
    "\n",
    "for top, dirs, files in os.walk(path):\n",
    "    for f in files:\n",
    "        a = []\n",
    "        print(f)\n",
    "        file_path = path + f\n",
    "        exl = pd.read_csv(io.open(file_path, encoding='utf-8'), sep = ';', header = 0)\n",
    "        for i in exl['label'].tolist():\n",
    "            s = ''\n",
    "            new_lab = tokenize(i)\n",
    "            if len(new_lab) > 1:\n",
    "                for j in new_lab:\n",
    "                    s += j + ' '\n",
    "                new_lab = s[:-1]\n",
    "            else:\n",
    "                new_lab = new_lab[0]\n",
    "            a.append(new_lab)\n",
    "        exl['tokenize'] = a\n",
    "        exl.to_csv(f'C:/Users/User/Desktop/Sparql/Wiki_Toloka/rus_labels_tokenize/' + f, sep = ';', encoding='utf-8-sig', index = False)"
   ]
  },
  {
   "cell_type": "markdown",
   "metadata": {},
   "source": [
    "ищем соответствие"
   ]
  },
  {
   "cell_type": "code",
   "execution_count": 15,
   "metadata": {},
   "outputs": [],
   "source": [
    "def find_entity(entity):\n",
    "    res = []\n",
    "    dic = {}\n",
    "    path = 'C:/Users/User/Desktop/Sparql/Wiki_Toloka/rus_labels/'\n",
    "    for top, dirs, files in os.walk(path):\n",
    "        for f in files:\n",
    "            file_path = path + f\n",
    "            exl = pd.read_csv(io.open(file_path, encoding='utf-8'), sep = ';', header = 0)\n",
    "            entity_list = exl['entity'].tolist()\n",
    "            if entity in entity_list:\n",
    "                return f.split('_')[-1].split('.')[0], f.split('_')[1]\n",
    "    return entity"
   ]
  },
  {
   "cell_type": "code",
   "execution_count": 22,
   "metadata": {},
   "outputs": [
    {
     "data": {
      "text/plain": [
       "[('Q34038', 'водопад'),\n",
       " ('Q34038', 'водопад'),\n",
       " ('Q34038', 'водопад'),\n",
       " ('Q8072', 'вулкан'),\n",
       " ('Q8072', 'вулкан'),\n",
       " ('Q8072', 'вулкан'),\n",
       " ('Q34038', 'водопад'),\n",
       " ('Q34038', 'водопад'),\n",
       " ('Q34038', 'водопад'),\n",
       " ('Q34038', 'водопад'),\n",
       " 'Q1',\n",
       " ('Q34038', 'водопад')]"
      ]
     },
     "execution_count": 22,
     "metadata": {},
     "output_type": "execute_result"
    }
   ],
   "source": [
    "all_intent = []\n",
    "for top, dirs, files in os.walk(path): #проходимся по всем екселям (интентам)\n",
    "    for f in files:\n",
    "        intent_name = f.split('.')[0] #надеюсь имя интента будет соответствовать имени файла\n",
    "        #exl = pd.read_excel(path) #ексель блохи\n",
    "        #qid = exl[] #берем нужный столбец\n",
    "        qid = ['Q214924', 'Q292937', 'Q427971', 'Q235062', 'Q475743', 'Q499519', 'Q559340', 'Q604335', 'Q639731', 'Q879159', 'Q1', 'Q886590']\n",
    "        res = []\n",
    "        for i in qid:\n",
    "            res.append(find_entity(i))\n",
    "        c = Counter() \n",
    "        for i in res:\n",
    "            c[i] += 1 \n",
    "        all_intent.append(pd.DataFrame(data = d, columns = ['entity', 'label']))"
   ]
  }
 ],
 "metadata": {
  "kernelspec": {
   "display_name": "Python 3",
   "language": "python",
   "name": "python3"
  },
  "language_info": {
   "codemirror_mode": {
    "name": "ipython",
    "version": 3
   },
   "file_extension": ".py",
   "mimetype": "text/x-python",
   "name": "python",
   "nbconvert_exporter": "python",
   "pygments_lexer": "ipython3",
   "version": "3.7.4"
  }
 },
 "nbformat": 4,
 "nbformat_minor": 2
}
