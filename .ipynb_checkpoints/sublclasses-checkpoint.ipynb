{
 "cells": [
  {
   "cell_type": "code",
   "execution_count": 41,
   "metadata": {},
   "outputs": [],
   "source": [
    "import dask\n",
    "from fake_useragent import UserAgent\n",
    "from SPARQLWrapper import SPARQLWrapper, JSON, XML\n",
    "import pandas as pd\n",
    "import json\n",
    "import time\n",
    "import bookquery\n",
    "import os\n",
    "import io\n",
    "import json"
   ]
  },
  {
   "cell_type": "code",
   "execution_count": 39,
   "metadata": {},
   "outputs": [],
   "source": [
    "ua = UserAgent()\n",
    "bad_requests = []\n",
    "\n",
    "def execute_query(qquery, entity_id):\n",
    "    sparql = SPARQLWrapper(\"https://query.wikidata.org/sparql\", agent = ua.random)\n",
    "    sparql.setQuery(qquery.format(entity_id = entity_id))\n",
    "    sparql.setReturnFormat(JSON)\n",
    "    results = sparql.query().convert()\n",
    "    return results['results']['bindings']\n",
    "\n",
    "def entities_sparqul(entity_id, f = 0):\n",
    "        res = []\n",
    "        if f > 5:\n",
    "            global bad_requests\n",
    "            bad_requests.append(entity_id)\n",
    "            print('Bad request ', entity_id)\n",
    "            return None\n",
    "        try:\n",
    "            results= execute_query(bookquery.subclass_with_parents, entity_id)\n",
    "            for result in results:\n",
    "                entities = {}\n",
    "                entities['subclass'] = result['show']['value'].split('/')[-1]\n",
    "                entities['subclasslabel'] = result['showLabel']['value']\n",
    "                entities['classid'] = result['parent']['value'].split('/')[-1]\n",
    "                entities['classlabel'] = result['parentLabel']['value']\n",
    "                res.append(entities)\n",
    "            return pd.DataFrame(data = res, columns = ['classid', 'classlabel' ,'subclass', 'subclasslabel'])\n",
    "        except Exception as e:\n",
    "            print(e)\n",
    "            time.sleep(5)\n",
    "            print('Try again ', entity_id, f)\n",
    "            return entities_sparqul(entity_id, f + 1)\n",
    "        \n",
    "def getting_subclass(subclasses , name):\n",
    "    main_df = pd.DataFrame()\n",
    "    for item in subclasses:\n",
    "        df = entities_sparqul(\"Q4022\")\n",
    "        df = df[df['classid'].isin(list(df.subclass))]\n",
    "        df =  df[lambda x : x['subclasslabel'].str[0]!='Q']\n",
    "        new_df = df.groupby(['subclass' , 'subclasslabel']).apply(lambda x: ','.join(list(map(lambda x: '_'.join(x) , zip(x.classid,x.classlabel))))).reset_index()\n",
    "        new_df.columns = ['subclass' , 'subclasslabel' , 'class']\n",
    "        new_df['signifance'] = ''\n",
    "        main_df = pd.concat([main_df , new_df])\n",
    "    main_df.to_excel(f'excel_with_subclasses/{name}.xlsx' , index = False)"
   ]
  },
  {
   "cell_type": "code",
   "execution_count": 40,
   "metadata": {},
   "outputs": [],
   "source": [
    "getting_subclass([\"Q4022\"] , 'Реки')"
   ]
  },
  {
   "cell_type": "code",
   "execution_count": 44,
   "metadata": {},
   "outputs": [
    {
     "name": "stdout",
     "output_type": "stream",
     "text": [
      "{'dr:port': ['Q44782', 'Q15310171'], 'dr:road': ['Q34442', 'Q269949', 'Q46622', 'Q13409250'], 'dr:tunnel': ['Q44377', 'Q2354973', 'Q1311958'], 'dr:bridge': ['Q12280', 'Q158438', 'Q12570', 'Q787417'], 'dr:pyramid': ['Q12516', 'Q175582'], 'dr:building': ['Q41176', 'Q11303', 'Q3947', 'Q23413'], 'dr:architectural_structure': ['Q811979', 'Q12518', 'Q179700', 'Q4989906', 'Q1068623', 'Q39715', 'Q2977', 'Q16970', 'Q32815', 'dr:building', 'dr:pyramid', 'dr:bridge', 'Q33506', 'Q24354', 'Q1248784', 'Q174782', 'Q1501', 'Q43483', 'Q483110', 'Q1281105', 'Q381885', 'Q13409250', 'Q202570', 'Q863454', 'Q483453'], 'dr:river': ['Q4022', 'Q4445519', 'Q285451', 'Q159675'], 'dr:sea': ['Q165', 'Q986177'], 'dr:bay': ['Q39594', 'Q45776', 'Q187223', 'Q156030'], 'dr:canal': ['Q12284', 'Q949819'], 'dr:lake': ['Q23397', 'Q188025', 'Q204324'], 'dr:still_waters': ['Q337567', 'dr:lake', 'Q9430', 'Q3253281', 'Q131681', 'Q30198', 'dr:sea'], 'dr:region': ['Q82794', 'Q3455524', 'Q831740', 'Q2738486', 'Q43263', 'Q41162', 'dr:oblast ', 'Q41162'], 'dr:district': ['Q484215', 'Q475050', 'Q184122', 'Q149621', 'Q4057820', 'Q15642599'], 'dr:oblast ': ['Q835714', 'Q171308', 'Q209325'], 'dr:state': ['Q35657', 'Q13390680', 'Q5852411', 'Q501094', 'Q178712', 'Q107390'], 'dr:republic': ['Q7270', 'Q41162'], 'dr:country': ['Q6256', 'Q7275', 'Q107390', 'Q112099', 'Q244381', 'Q3624078', 'dr:republic', 'Q417175', 'Q189898', 'Q133442', 'Q132453'], 'dr:street': ['Q79007', 'Q7543083', 'Q907698'], 'dr:posyolok': ['Q2514025', 'Q2989457'], 'dr:city': ['Q515', 'Q174844', 'Q3957', 'Q5119', 'Q183342', 'Q1637706', 'Q133442', 'Q12134916', 'Q1306755'], 'dr:human_settlement': ['Q486972', 'dr:city', 'dr:posyolok', 'Q5084', 'Q532', 'Q2023000', 'Q188509', 'Q3257686'], 'dr:park': ['Q22698', 'Q46169', 'Q728904', 'Q1197552', 'Q2026833'], 'dr:forest': ['Q4421', 'Q17057172', 'Q1197552'], 'dr:highest_point': ['Q207326', 'Q3393392'], 'dr:valley': ['Q150784', 'Q2042028', 'Q39816'], 'dr:plain': ['Q160091', 'Q193071', 'Q75520'], 'dr:basin': ['Q813672', 'Q119253'], 'dr:upland': ['Q54050', 'Q878223', 'Q55075651', 'Q740445', 'Q2997316'], 'dr:island': ['Q23442', 'Q42523', 'Q1065592'], 'dr:rock': ['Q1404150', 'Q6502866'], 'dr:volcano': ['Q8072', 'Q1330974', 'Q1325302', 'Q1197120'], 'dr:mountain': ['Q8502', 'Q1061151', 'dr:volcano', 'Q46831', 'Q22911774']}\n"
     ]
    }
   ],
   "source": [
    "with open(r'wikidata\\artificial_classes\\data\\artificial_w_singletonsv6.json') as f:\n",
    "    d = json.load(f)\n",
    "print(d)"
   ]
  },
  {
   "cell_type": "code",
   "execution_count": null,
   "metadata": {},
   "outputs": [],
   "source": []
  }
 ],
 "metadata": {
  "kernelspec": {
   "display_name": "Python 3",
   "language": "python",
   "name": "python3"
  },
  "language_info": {
   "codemirror_mode": {
    "name": "ipython",
    "version": 3
   },
   "file_extension": ".py",
   "mimetype": "text/x-python",
   "name": "python",
   "nbconvert_exporter": "python",
   "pygments_lexer": "ipython3",
   "version": "3.7.4"
  }
 },
 "nbformat": 4,
 "nbformat_minor": 2
}
