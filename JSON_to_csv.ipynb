{
 "cells": [
  {
   "cell_type": "code",
   "execution_count": 42,
   "metadata": {},
   "outputs": [],
   "source": [
    "import os\n",
    "from os.path import join,isfile\n",
    "from os import listdir\n",
    "import dask.bag as db\n",
    "import json\n",
    "entity_id = 'Q7930989'\n",
    "path = 'json'\n",
    "js1=db.read_text(join(path, '*.json')).map(json.loads)\n",
    "js1 = js1.compute()"
   ]
  },
  {
   "cell_type": "code",
   "execution_count": 43,
   "metadata": {},
   "outputs": [
    {
     "data": {
      "text/plain": [
       "'city_town'"
      ]
     },
     "execution_count": 43,
     "metadata": {},
     "output_type": "execute_result"
    }
   ],
   "source": [
    "label = js1[0][0]['showLabel']\n",
    "label = label.replace(r'/' , \" \")\n",
    "label"
   ]
  },
  {
   "cell_type": "code",
   "execution_count": 44,
   "metadata": {},
   "outputs": [],
   "source": [
    "js_new = list(map(lambda x: {'entity' : x['item'].split('/')[-1],'label' : x['itemLabel']} , js1[0]))\n",
    "result = pd.DataFrame(data = js_new)"
   ]
  },
  {
   "cell_type": "code",
   "execution_count": 46,
   "metadata": {},
   "outputs": [],
   "source": [
    "result.to_csv(join(path  + '/results',f'entities_{label}_{entity_id}.csv'),\n",
    "                          encoding='utf-8-sig',index = False,sep = ';')# Формирование"
   ]
  },
  {
   "cell_type": "code",
   "execution_count": null,
   "metadata": {},
   "outputs": [],
   "source": []
  }
 ],
 "metadata": {
  "kernelspec": {
   "display_name": "Python 3",
   "language": "python",
   "name": "python3"
  },
  "language_info": {
   "codemirror_mode": {
    "name": "ipython",
    "version": 3
   },
   "file_extension": ".py",
   "mimetype": "text/x-python",
   "name": "python",
   "nbconvert_exporter": "python",
   "pygments_lexer": "ipython3",
   "version": "3.7.4"
  }
 },
 "nbformat": 4,
 "nbformat_minor": 2
}
