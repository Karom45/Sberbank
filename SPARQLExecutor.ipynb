{
 "cells": [
  {
   "cell_type": "code",
   "execution_count": 1,
   "metadata": {},
   "outputs": [],
   "source": [
    "from SPARQLWrapper import SPARQLWrapper, JSON\n",
    "from fake_useragent import UserAgent\n",
    "\n",
    "class SPARQLExecutor(object):\n",
    "    def __init__(self, endpoint=\"https://query.wikidata.org/sparql\", simplified: bool = True):\n",
    "        self.sparql = SPARQLWrapper(endpoint , agent = UserAgent().random)\n",
    "        self.sparql.setReturnFormat(JSON)\n",
    "        self.simplified = simplified\n",
    "\n",
    "    def execute(self, query, **params):\n",
    "        if params:\n",
    "            self.sparql.setQuery(query.format(**params))\n",
    "        else:\n",
    "            self.sparql.setQuery(query)\n",
    "        results = self.sparql.query().convert()\n",
    "        results = results['results']['bindings']\n",
    "        if not self.simplified:\n",
    "            return results\n",
    "        else:\n",
    "            return [{k: v['value'] for k, v in answer.items()} for answer in results]\n"
   ]
  },
  {
   "cell_type": "code",
   "execution_count": null,
   "metadata": {},
   "outputs": [],
   "source": []
  }
 ],
 "metadata": {
  "kernelspec": {
   "display_name": "Python 3",
   "language": "python",
   "name": "python3"
  },
  "language_info": {
   "codemirror_mode": {
    "name": "ipython",
    "version": 3
   },
   "file_extension": ".py",
   "mimetype": "text/x-python",
   "name": "python",
   "nbconvert_exporter": "python",
   "pygments_lexer": "ipython3",
   "version": "3.7.4"
  }
 },
 "nbformat": 4,
 "nbformat_minor": 2
}
