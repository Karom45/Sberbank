{
 "cells": [
  {
   "cell_type": "code",
   "execution_count": 11,
   "metadata": {},
   "outputs": [
    {
     "name": "stdout",
     "output_type": "stream",
     "text": [
      "Collecting httplib2\n",
      "  Downloading https://files.pythonhosted.org/packages/b3/ad/d9d9331850ea5bd4f5cb8c650c0bfa119a4abd6b0ad7c45b6506bc979fc0/httplib2-0.18.1-py3-none-any.whl (95kB)\n",
      "Installing collected packages: httplib2\n",
      "Successfully installed httplib2-0.18.1\n",
      "Note: you may need to restart the kernel to use updated packages.\n"
     ]
    }
   ],
   "source": [
    "pip install httplib2"
   ]
  },
  {
   "cell_type": "code",
   "execution_count": 12,
   "metadata": {},
   "outputs": [],
   "source": [
    "import pickle\n",
    "import urllib.request\n",
    "import requests\n",
    "from os.path import join,isfile\n",
    "from os import listdir\n",
    "from tqdm import tqdm\n",
    "import urllib\n",
    "import multiprocessing as mp\n",
    "import pandas as pd\n",
    "import time\n",
    "import datetime\n",
    "import httplib2\n",
    "\n",
    "def counter_for_files(path):\n",
    "    \n",
    "    \"\"\"Подсчет файлов в директории\"\"\"\n",
    "        \n",
    "    onlyfiles = [join(path, f) for f in listdir(path) if isfile(join(path, f))]\n",
    "    return onlyfiles"
   ]
  },
  {
   "cell_type": "code",
   "execution_count": null,
   "metadata": {},
   "outputs": [],
   "source": [
    "with open('qids.pickle', 'rb') as f:\n",
    "    graph = pickle.load(f)"
   ]
  },
  {
   "cell_type": "code",
   "execution_count": null,
   "metadata": {},
   "outputs": [],
   "source": [
    "len(graph)"
   ]
  },
  {
   "cell_type": "code",
   "execution_count": null,
   "metadata": {},
   "outputs": [],
   "source": [
    "mini_graph = graph[:110000]\n",
    "print(len(mini_graph))"
   ]
  },
  {
   "cell_type": "code",
   "execution_count": 2,
   "metadata": {},
   "outputs": [],
   "source": [
    "file = r'C:\\Users\\Алексей Кушнер\\Sberbank\\Geography\\new_csv_dump\\entities_автономный город_Q1094397.csv'\n",
    "def csv_to_list(file):\n",
    "    df = pd.read_csv(file , encoding='utf8',sep = ';')\n",
    "    lst = list(df['entity'])\n",
    "    return lst"
   ]
  },
  {
   "cell_type": "code",
   "execution_count": 3,
   "metadata": {},
   "outputs": [
    {
     "data": {
      "text/plain": [
       "['Q1486', 'Q5823', 'Q5831']"
      ]
     },
     "execution_count": 3,
     "metadata": {},
     "output_type": "execute_result"
    }
   ],
   "source": [
    "csv_to_list(file)"
   ]
  },
  {
   "cell_type": "code",
   "execution_count": 4,
   "metadata": {},
   "outputs": [],
   "source": [
    "my_file = open('Logging.txt', 'w')\n",
    "my_file.close()"
   ]
  },
  {
   "cell_type": "code",
   "execution_count": 5,
   "metadata": {},
   "outputs": [],
   "source": [
    "my_file = open('Troubles.txt', 'w')\n",
    "my_file.close()"
   ]
  },
  {
   "cell_type": "code",
   "execution_count": 6,
   "metadata": {},
   "outputs": [
    {
     "name": "stdout",
     "output_type": "stream",
     "text": [
      "23:13:29.097157\n"
     ]
    }
   ],
   "source": [
    "print(datetime.datetime.now().time())"
   ]
  },
  {
   "cell_type": "code",
   "execution_count": 15,
   "metadata": {},
   "outputs": [
    {
     "name": "stdout",
     "output_type": "stream",
     "text": [
      "Overwriting request_file.py\n"
     ]
    }
   ],
   "source": [
    "%%file request_file.py\n",
    "\n",
    "\n",
    "import pickle\n",
    "import urllib.request\n",
    "import requests\n",
    "from os.path import join,isfile\n",
    "from os import listdir\n",
    "import urllib\n",
    "from fake_useragent import UserAgent\n",
    "import datetime\n",
    "import time\n",
    "\n",
    "ua = UserAgent()#Прокси\n",
    "\n",
    "def counter_for_files(path):\n",
    "    \n",
    "    \"\"\"Подсчет файлов в директории\"\"\"\n",
    "        \n",
    "    onlyfiles = [join(path, f) for f in listdir(path) if isfile(join(path, f))]\n",
    "    return onlyfiles\n",
    "\n",
    "\n",
    "\n",
    "def request_func(ID, func = 0):\n",
    "    if func>5:\n",
    "        with open(f\"Trouble.txt\", \"a\" , encoding='utf-8') as file:\n",
    "                    file.write(f'{ID} :  {datetime.datetime.now().time()}\\n')\n",
    "    if f'D:\\\\dump\\\\{ID}.ttl' in counter_for_files('D:\\\\dump'):\n",
    "        return None\n",
    "    try:\n",
    "        headers = {\n",
    "        'User-Agent': ua.random\n",
    "            } \n",
    "        with requests.get(f\"https://www.wikidata.org/wiki/Special:EntityData/{ID}.ttl\", \n",
    "                          stream=True, proxies=urllib.request.getproxies(), headers=headers) as r:\n",
    "            if r.status_code != 200:\n",
    "                with open(f\"Logging.txt\", \"a\" , encoding='utf-8') as file:\n",
    "                    file.write(f'{ID} :  {r.status_code}\\n')\n",
    "                return None\n",
    "            with open(f\"D://dump//{ID}.ttl\", \"w\" , encoding='utf-8') as file:\n",
    "                file.write(r.text)\n",
    "            return None\n",
    "    except:\n",
    "        time.sleep(3)\n",
    "        return request_func(ID, func + 1)\n",
    "        "
   ]
  },
  {
   "cell_type": "code",
   "execution_count": 17,
   "metadata": {},
   "outputs": [
    {
     "name": "stdout",
     "output_type": "stream",
     "text": [
      "Обработка entities_автономный город_Q1094397 окончена , заняло 0.03889252742131551 минут\n",
      "\n",
      "Обработка entities_административный город Республики Ирландия_Q13455645 окончена , заняло 0.03975118796030681 минут\n",
      "\n",
      "Обработка entities_административный центр графства_Q1357964 окончена , заняло 0.1695544441541036 минут\n",
      "\n",
      "Обработка entities_большой город в США_Q1093829 окончена , заняло 12.495049281915028 минут\n",
      "\n",
      "Обработка entities_бывшая столица_Q27554677 окончена , заняло 0.04608984788258871 минут\n",
      "\n",
      "Обработка entities_второй по величине город_Q50330360 окончена , заняло 0.040929277737935386 минут\n",
      "\n",
      "Обработка entities_ганзейский город_Q707813 окончена , заняло 0.609826672077179 минут\n",
      "\n",
      "Обработка entities_глобальный город_Q208511 окончена , заняло 0.03672715028127035 минут\n",
      "\n",
      "Обработка entities_город Аргентины_Q5770918 окончена , заняло 0.1109410802523295 минут\n",
      "\n",
      "Обработка entities_город без автомобилей_Q581830 окончена , заняло 0.041469649473826094 минут\n",
      "\n",
      "Обработка entities_город в Альберте_Q55440238 окончена , заняло 0.053679239749908444 минут\n",
      "\n",
      "Обработка entities_город в Армении_Q20724701 окончена , заняло 0.14260580937067668 минут\n",
      "\n",
      "Обработка entities_город в Болгарии_Q89487741 окончена , заняло 0.7578176458676656 минут\n",
      "\n",
      "Обработка entities_город в Венгрии_Q13218690 окончена , заняло 0.819073220094045 минут\n",
      "\n",
      "Обработка entities_город в Пенсильвании_Q21010817 окончена , заняло 0.1097616990407308 минут\n",
      "\n",
      "Обработка entities_город в Румынии_Q16858213 окончена , заняло 0.640580153465271 минут\n",
      "\n",
      "Обработка entities_город в Сербии_Q37800986 окончена , заняло 0.09438315629959107 минут\n",
      "\n",
      "Обработка entities_город в Хорватии_Q15105893 окончена , заняло 0.3864818255106608 минут\n",
      "\n",
      "Обработка entities_город в Чили_Q25412763 окончена , заняло 0.20362728039423625 минут\n",
      "\n",
      "Обработка entities_город в Эквадоре_Q63208468 окончена , заняло 0.03489532073338827 минут\n",
      "\n",
      "Обработка entities_город в Южной Корее_Q29045252 окончена , заняло 0.2021260142326355 минут\n",
      "\n",
      "Обработка entities_город Ирана_Q56557504 окончена , заняло 2.5221515695254006 минут\n",
      "\n",
      "Обработка entities_город Квебека_Q27676416 окончена , заняло 0.26477813720703125 минут\n",
      "\n",
      "Обработка entities_город Кипра_Q29556224 окончена , заняло 0.03878618081410726 минут\n",
      "\n",
      "Обработка entities_город КНДР_Q28659128 окончена , заняло 0.06593493223190308 минут\n",
      "\n",
      "Обработка entities_город на правах повята_Q925381 окончена , заняло 0.1904795249303182 минут\n",
      "\n",
      "Обработка entities_город на Украине_Q12131624 окончена , заняло 0.0507705012957255 минут\n",
      "\n",
      "Обработка entities_город областного подчинения_Q79323854 окончена , заняло 0.04665078719456991 минут\n",
      "\n",
      "Обработка entities_город под муниципальной юрисдикцией Латвии_Q15584664 окончена , заняло 0.19617921113967896 минут\n",
      "\n",
      "Обработка entities_город Португалии_Q15647906 окончена , заняло 0.4735730846722921 минут\n",
      "\n",
      "Обработка entities_город провинциального подчинения во Вьетнаме_Q3249005 окончена , заняло 0.19311922391255695 минут\n",
      "\n",
      "Обработка entities_город провинциального подчинения_Q83020 окончена , заняло 0.033633689085642494 минут\n",
      "\n",
      "Обработка entities_город прямого подчинения Республики Корея_Q482821 окончена , заняло 0.03602222998936971 минут\n",
      "\n",
      "Обработка entities_город районного подчинения_Q79324274 окончена , заняло 0.32206151882807416 минут\n",
      "\n",
      "Обработка entities_город республиканского подчинения_Q15127838 окончена , заняло 0.039515403906504314 минут\n",
      "\n",
      "Обработка entities_город с населением более 100 000 человек_Q1549591 окончена , заняло 9.42978141705195 минут\n",
      "\n",
      "Обработка entities_город с правами медье_Q681277 окончена , заняло 0.06838835477828979 минут\n",
      "\n",
      "Обработка entities_город со своим почтовым индексом_Q1968403 окончена , заняло 0.04740208784739176 минут\n",
      "\n",
      "Обработка entities_город субпровинциального значения_Q250811 окончена , заняло 0.04712802171707153 минут\n",
      "\n",
      "Обработка entities_город уездного подчинения_Q713146 окончена , заняло 0.0486959179242452 минут\n",
      "\n",
      "Обработка entities_город федерального значения в России_Q183342 окончена , заняло 0.03551169236501058 минут\n",
      "\n",
      "Обработка entities_город Швейцарии_Q54935504 окончена , заняло 0.4663155396779378 минут\n",
      "\n",
      "Обработка entities_город штата Нью-Йорк_Q15063611 окончена , заняло 0.09661377668380737 минут\n",
      "\n",
      "Обработка entities_город Японии_Q494721 окончена , заняло 2.2613842527071637 минут\n",
      "\n",
      "Обработка entities_город-герой_Q159438 окончена , заняло 0.042521377404530845 минут\n",
      "\n",
      "Обработка entities_город-государство_Q133442 окончена , заняло 0.09766072829564412 минут\n",
      "\n",
      "Обработка entities_город_Q11881845 окончена , заняло 0.1354692816734314 минут\n",
      "\n",
      "Обработка entities_город_Q515 окончена , заняло 19.191168411572775 минут\n",
      "\n",
      "Обработка entities_город_Q60458065 окончена , заняло 0.05096129973729451 минут\n",
      "\n",
      "Обработка entities_город_Q7930989 окончена , заняло 3.7299272338549296 минут\n",
      "\n",
      "Обработка entities_города России_Q187768 окончена , заняло 0.04008152484893799 минут\n",
      "\n",
      "Обработка entities_города Украины_Q200209 окончена , заняло 0.03181871970494588 минут\n",
      "\n",
      "Обработка entities_города Филиппин_Q104157 окончена , заняло 0.3316762129465739 минут\n",
      "\n",
      "Обработка entities_Города центрального подчинения Вьетнама_Q1381899 окончена , заняло 0.03167640765508016 минут\n",
      "\n",
      "Обработка entities_городская гмина_Q2616791 окончена , заняло 0.7234580914179484 минут\n",
      "\n",
      "Обработка entities_городская община Германии_Q42744322 окончена , заняло 6.775670850276947 минут\n",
      "\n",
      "Обработка entities_городская община_Q13539802 окончена , заняло 0.952110489209493 минут\n",
      "\n",
      "Обработка entities_городской округ в Германии_Q22865 окончена , заняло 0.326012130578359 минут\n",
      "\n",
      "Обработка entities_городской округ в КНР_Q748149 окончена , заняло 0.8552550713221232 минут\n",
      "\n",
      "Обработка entities_граничный город_Q902814 окончена , заняло 2.574596170584361 минут\n",
      "\n",
      "Обработка entities_европаштадт_Q1375749 окончена , заняло 0.04605501890182495 минут\n",
      "\n",
      "Обработка entities_имперский город_Q57318 окончена , заняло 0.04571160078048706 минут\n",
      "\n",
      "Обработка entities_коммуна Бельгии со статусом города_Q15273785 окончена , заняло 0.3752578814824422 минут\n",
      "\n",
      "Обработка entities_кота_Q3199141 окончена , заняло 0.27322568496068317 минут\n",
      "\n",
      "Обработка entities_курортный город_Q317548 окончена , заняло 0.12397294839223226 минут\n",
      "\n",
      "Обработка entities_лютерштадт_Q1547289 окончена , заняло 0.055228352546691895 минут\n",
      "\n",
      "Обработка entities_малый город в Альберте_Q55430416 окончена , заняло 0.053930258750915526 минут\n",
      "\n",
      "Обработка entities_малый город Португалии_Q19833170 окончена , заняло 1.879602038860321 минут\n",
      "\n",
      "Обработка entities_малый город_Q3957 окончена , заняло 13.042188942432404 минут\n",
      "\n",
      "Обработка entities_мега-город_Q174844 окончена , заняло 0.036563356717427574 минут\n",
      "\n",
      "Обработка entities_метропольные города Италии_Q15110 окончена , заняло 0.040419936180114746 минут\n",
      "\n",
      "Обработка entities_муниципалитет со статусом города_Q15978299 окончена , заняло 1.4821080485979716 минут\n",
      "\n",
      "Обработка entities_населённый пункт с расширенными полномочиями_Q7819319 окончена , заняло 0.05279552539189657 минут\n",
      "\n",
      "Обработка entities_национальный урбанистический центр_Q1066538 окончена , заняло 0.030767746766408286 минут\n",
      "\n",
      "Обработка entities_небольшой город в США_Q15127012 окончена , заняло 3.3186611970265707 минут\n",
      "\n",
      "Обработка entities_независимый город США_Q1266818 окончена , заняло 0.11939133803049723 минут\n",
      "\n",
      "Обработка entities_независимый город_Q15092400 окончена , заняло 0.039450796445210774 минут\n",
      "\n",
      "Обработка entities_объединение города и округа_Q3301053 окончена , заняло 0.05378443002700806 минут\n",
      "\n",
      "Обработка entities_первый по величине город_Q51929311 окончена , заняло 0.049211053053538005 минут\n",
      "\n",
      "Обработка entities_портовый город_Q2264924 окончена , заняло 0.39843612114588417 минут\n",
      "\n",
      "Обработка entities_посёлок в Японии_Q1059478 окончена , заняло 2.3398380796114604 минут\n",
      "\n",
      "Обработка entities_рыночный городок_Q18511725 окончена , заняло 0.20870984792709352 минут\n",
      "\n",
      "Обработка entities_средний город_Q896881 окончена , заняло 0.031402281920115155 минут\n",
      "\n",
      "Обработка entities_столица жудеца Румынии_Q34843301 окончена , заняло 0.1221781333287557 минут\n",
      "\n",
      "Обработка entities_столица штата либо островной территории США_Q21518270 окончена , заняло 0.15927595694859822 минут\n",
      "\n",
      "Обработка entities_столица_Q5119 окончена , заняло 0.9871758898099263 минут\n",
      "\n",
      "Обработка entities_таун Нью-Брансуика_Q52132873 окончена , заняло 0.035538562138875324 минут\n",
      "\n",
      "Обработка entities_тхетсабанмыанг_Q13025342 окончена , заняло 0.16856394211451212 минут\n"
     ]
    },
    {
     "name": "stdout",
     "output_type": "stream",
     "text": [
      "\n",
      "Обработка entities_тхетсабаннакхон_Q15141632 окончена , заняло 0.09544488986333212 минут\n",
      "\n",
      "Обработка entities_укреплённый город_Q677678 окончена , заняло 0.05604421297709147 минут\n",
      "\n",
      "Обработка entities_университетский город_Q1187811 окончена , заняло 0.19609354734420775 минут\n",
      "\n",
      "Обработка entities_уставный город Австрии_Q262882 окончена , заняло 0.06070362726847331 минут\n",
      "\n",
      "Обработка entities_федеральный город_Q537250 окончена , заняло 0.03200826644897461 минут\n",
      "\n",
      "Обработка entities_центральный город_Q2235075 окончена , заняло 0.030809982617696127 минут\n",
      "\n"
     ]
    }
   ],
   "source": [
    "import request_file\n",
    "pool = mp.Pool(processes=mp.cpu_count())\n",
    "for file in counter_for_files('new_csv_dump'):\n",
    "    file_name = file.split('\\\\')[-1].split('.')[0]\n",
    "    start = time.time()\n",
    "    mini_graph = csv_to_list(file)\n",
    "    results = pool.map(request_file.request_func, mini_graph)\n",
    "    end = time.time()\n",
    "    print(f'Обработка {file_name} окончена , заняло {(end-start)/60} минут\\n')"
   ]
  },
  {
   "cell_type": "code",
   "execution_count": null,
   "metadata": {},
   "outputs": [],
   "source": [
    "for file in counter_for_files('new_csv_dump')[0:2]:\n",
    "    mini_graph = csv_to_list(file)\n",
    "    if f'D://dump//{mini_graph[0]}.ttl' in counter_for_files('D:\\\\dump'):\n",
    "        print(1)\n",
    "    else :\n",
    "        print(0)\n",
    "    print(mini_graph[0])"
   ]
  },
  {
   "cell_type": "code",
   "execution_count": null,
   "metadata": {},
   "outputs": [],
   "source": []
  }
 ],
 "metadata": {
  "kernelspec": {
   "display_name": "Python 3",
   "language": "python",
   "name": "python3"
  },
  "language_info": {
   "codemirror_mode": {
    "name": "ipython",
    "version": 3
   },
   "file_extension": ".py",
   "mimetype": "text/x-python",
   "name": "python",
   "nbconvert_exporter": "python",
   "pygments_lexer": "ipython3",
   "version": "3.8.3"
  }
 },
 "nbformat": 4,
 "nbformat_minor": 2
}
