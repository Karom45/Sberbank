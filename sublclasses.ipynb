{
 "cells": [
  {
   "cell_type": "code",
   "execution_count": 175,
   "metadata": {},
   "outputs": [],
   "source": [
    "import dask\n",
    "from fake_useragent import UserAgent\n",
    "from SPARQLWrapper import SPARQLWrapper, JSON, XML\n",
    "import pandas as pd\n",
    "import json\n",
    "import time\n",
    "import bookquery\n",
    "import os\n",
    "import io\n",
    "import json\n",
    "from tqdm import tqdm\n",
    "from os.path import join,isfile\n",
    "from os import listdir\n",
    "\n",
    "def counter_for_files(path):\n",
    "    \n",
    "    \"\"\"Подсчет файлов в директории\"\"\"\n",
    "        \n",
    "    onlyfiles = [join(path, f) for f in listdir(path) if isfile(join(path, f))]\n",
    "    return onlyfiles"
   ]
  },
  {
   "cell_type": "code",
   "execution_count": 207,
   "metadata": {},
   "outputs": [],
   "source": [
    "ua = UserAgent()\n",
    "bad_requests = []\n",
    "\n",
    "def execute_query(qquery, entity_id):\n",
    "    sparql = SPARQLWrapper(\"https://query.wikidata.org/sparql\", agent = ua.random)\n",
    "    sparql.setQuery(qquery.format(entity_id = entity_id))\n",
    "    sparql.setReturnFormat(JSON)\n",
    "    results = sparql.query().convert()\n",
    "    return results['results']['bindings']\n",
    "\n",
    "def entities_sparqul(entity_id, f = 0):\n",
    "        res = []\n",
    "        if f > 5:\n",
    "            global bad_requests\n",
    "            bad_requests.append(entity_id)\n",
    "            print('Bad request ', entity_id)\n",
    "            return None\n",
    "        try:\n",
    "            results= execute_query(bookquery.subclass_with_parents, entity_id)\n",
    "            for result in results:\n",
    "                entities = {}\n",
    "                entities['subclass'] = result['show']['value'].split('/')[-1]\n",
    "                entities['subclasslabel'] = result['showLabel']['value']\n",
    "                entities['classid'] = result['parent']['value'].split('/')[-1]\n",
    "                entities['classlabel'] = result['parentLabel']['value']\n",
    "                res.append(entities)\n",
    "            return pd.DataFrame(data = res, columns = ['classid', 'classlabel' ,'subclass', 'subclasslabel'])\n",
    "        except Exception as e:\n",
    "            print(e)\n",
    "            time.sleep(5)\n",
    "            print('Try again ', entity_id, f)\n",
    "            return entities_sparqul(entity_id, f + 1)\n",
    "        \n",
    "# def getting_subclass(subclasses , name):\n",
    "#     main_df = pd.DataFrame()\n",
    "#     for item in subclasses:\n",
    "#         df = entities_sparqul(\"Q4022\")\n",
    "#         df = df[df['classid'].isin(list(df.subclass))]\n",
    "#         df =  df[lambda x : x['subclasslabel'].str[0]!='Q']\n",
    "#         new_df = df.groupby(['subclass' , 'subclasslabel']).apply(lambda x: ','.join(list(map(lambda x: '_'.join(x) , zip(x.classid,x.classlabel))))).reset_index()\n",
    "#         new_df.columns = ['subclass' , 'subclasslabel' , 'class']\n",
    "#         new_df['signifance'] = ''\n",
    "#         main_df = pd.concat([main_df , new_df])\n",
    "#     main_df.to_excel(f'excel_with_subclasses/{name}.xlsx' , index = False)\n",
    "    \n",
    "def new_sheets(sheetname , ID , filename):\n",
    "    print(sheetname , filename)\n",
    "    df = entities_sparqul(ID)\n",
    "    df = df[df['classid'].isin(list(df.subclass))]\n",
    "    df =  df[lambda x : x['subclasslabel'].str[0]!='Q']\n",
    "    if len(df) == 0:\n",
    "        return\n",
    "    new_df = df.groupby(['subclass' , 'subclasslabel']).apply(lambda x: ','.join(list(map(lambda x: '_'.join(x) , zip(x.classid,x.classlabel))))).reset_index()\n",
    "    new_df.columns = ['subclass' , 'subclasslabel' , 'class']\n",
    "    new_df['signifance'] = ''\n",
    "    if sheetname == filename or filename not in list(map(lambda x: x.split(\"\\\\\")[1].split('.')[0] , counter_for_files(\"excel_with_subclasses\"))):\n",
    "        new_df.to_excel(f'excel_with_subclasses/{filename}.xlsx', sheet_name = sheetname ,encoding='utf-8-sig' , index = False)\n",
    "    else:\n",
    "        with pd.ExcelWriter(f'excel_with_subclasses/{filename}.xlsx' ,  engine=\"openpyxl\" , mode  = 'a') as writer:\n",
    "            new_df.to_excel(writer, sheet_name = sheetname , encoding='utf-8-sig' , index = False)\n",
    "        \n",
    "def new_file(name , dic):\n",
    "    if name not in list(map(lambda x: x.split(\"\\\\\")[1].split('.')[0] , counter_for_files(\"excel_with_subclasses\"))):\n",
    "        for k,v in dic.items():\n",
    "            if k == name:\n",
    "                new_sheets(k,v , name)\n",
    "                del(dic[k])\n",
    "                break\n",
    "        for k,v in dic.items():\n",
    "            new_sheets(k,v , name)"
   ]
  },
  {
   "cell_type": "code",
   "execution_count": 208,
   "metadata": {},
   "outputs": [],
   "source": [
    "def subclass_json(k,v):\n",
    "    new_d = {}\n",
    "    for item in v:\n",
    "        if item[0] == 'Q':\n",
    "            new_d[k.split(':')[1]] = item\n",
    "        elif item in d2.keys():\n",
    "            new_d[item.split(':')[1]] = d2[item][0]\n",
    "        else:\n",
    "            subclass_json(item , d[item])\n",
    "    return new_d"
   ]
  },
  {
   "cell_type": "code",
   "execution_count": 209,
   "metadata": {},
   "outputs": [],
   "source": [
    "arr = []\n",
    "for k,v in d.items():\n",
    "    arr.append((subclass_json(k,v) , k.split(\":\")[1]))"
   ]
  },
  {
   "cell_type": "raw",
   "metadata": {},
   "source": []
  },
  {
   "cell_type": "code",
   "execution_count": 210,
   "metadata": {},
   "outputs": [
    {
     "data": {
      "text/plain": [
       "[({'port': 'Q44782', 'seaport': 'Q15310171'}, 'port'),\n",
       " ({'road': 'Q34442',\n",
       "   'highway': 'Q269949',\n",
       "   'controlled_access_highway': 'Q46622',\n",
       "   'aerial_lift': 'Q13409250'},\n",
       "  'road'),\n",
       " ({'tunnel': 'Q44377',\n",
       "   'road_tunnel': 'Q2354973',\n",
       "   'railway_tunnel': 'Q1311958'},\n",
       "  'tunnel'),\n",
       " ({'bridge': 'Q12280',\n",
       "   'arch_bridge': 'Q158438',\n",
       "   'suspension_bridge': 'Q12570',\n",
       "   'moveable_bridge': 'Q787417'},\n",
       "  'bridge'),\n",
       " ({'pyramid': 'Q12516', 'egyptian_pyramids': 'Q175582'}, 'pyramid'),\n",
       " ({'building': 'Q41176',\n",
       "   'skyscraper': 'Q11303',\n",
       "   'house': 'Q3947',\n",
       "   'castle': 'Q23413'},\n",
       "  'building'),\n",
       " ({'architectural_structure': 'Q811979',\n",
       "   'tower': 'Q12518',\n",
       "   'statue': 'Q179700',\n",
       "   'monument': 'Q4989906',\n",
       "   'transmitter_mast': 'Q1068623',\n",
       "   'lighthouse': 'Q39715',\n",
       "   'cathedral': 'Q2977',\n",
       "   'church_building': 'Q16970',\n",
       "   'mosque': 'Q32815',\n",
       "   'museum': 'Q33506',\n",
       "   'theatre': 'Q24354',\n",
       "   'airport': 'Q1248784',\n",
       "   'square': 'Q174782',\n",
       "   'swimming_pool': 'Q1501',\n",
       "   'well': 'Q43483',\n",
       "   'stadium': 'Q483110',\n",
       "   'piste': 'Q1281105',\n",
       "   'tomb': 'Q381885',\n",
       "   'aerial_lift': 'Q13409250',\n",
       "   'ferris_wheel': 'Q202570',\n",
       "   'pier': 'Q863454',\n",
       "   'fountain': 'Q483453'},\n",
       "  'architectural_structure'),\n",
       " ({'river': 'Q4022',\n",
       "   'navigable_river': 'Q4445519',\n",
       "   'drainage_system': 'Q285451',\n",
       "   'tributary': 'Q159675'},\n",
       "  'river'),\n",
       " ({'sea': 'Q165', 'mediterranean_sea': 'Q986177'}, 'sea'),\n",
       " ({'bay': 'Q39594',\n",
       "   'fjord': 'Q45776',\n",
       "   'lagoon': 'Q187223',\n",
       "   'liman': 'Q156030'},\n",
       "  'bay'),\n",
       " ({'canal': 'Q12284', 'ship_canal': 'Q949819'}, 'canal'),\n",
       " ({'lake': 'Q23397',\n",
       "   'salt_lake': 'Q188025',\n",
       "   'volcanic_crater_lake': 'Q204324'},\n",
       "  'lake'),\n",
       " ({'still_waters': 'Q337567',\n",
       "   'ocean': 'Q9430',\n",
       "   'pond': 'Q3253281',\n",
       "   'reservoir': 'Q131681',\n",
       "   'marsh': 'Q30198'},\n",
       "  'still_waters'),\n",
       " ({'region': 'Q82794',\n",
       "   'administrative_region': 'Q3455524',\n",
       "   'krai_of_russia': 'Q831740',\n",
       "   'krai': 'Q2738486',\n",
       "   'federal_subject_of_russia': 'Q43263',\n",
       "   'republic_of_russia': 'Q41162'},\n",
       "  'region'),\n",
       " ({'federal_district_of_russia': 'Q484215',\n",
       "   'federal_district': 'Q475050',\n",
       "   'autonomous_okrug_of_russia': 'Q184122',\n",
       "   'district': 'Q149621',\n",
       "   'administrative_okrug_of_moscow': 'Q4057820',\n",
       "   'urban_district': 'Q15642599'},\n",
       "  'district'),\n",
       " ({'oblast_of_russia': 'Q835714',\n",
       "   'oblast ': 'Q171308',\n",
       "   'regions_of_belarus': 'Q209325'},\n",
       "  'oblast '),\n",
       " ({'state_of_the_united_states': 'Q35657',\n",
       "   'state_of_india': 'Q13390680',\n",
       "   'state_of_australia': 'Q5852411',\n",
       "   'state_of_venezuela': 'Q501094',\n",
       "   'state_or_territory_of_australia': 'Q178712',\n",
       "   'federated_state': 'Q107390'},\n",
       "  'state'),\n",
       " ({'republic': 'Q7270', 'republic_of_russia': 'Q41162'}, 'republic'),\n",
       " ({'country': 'Q6256',\n",
       "   'state': 'Q7275',\n",
       "   'federated_state': 'Q107390',\n",
       "   'island_nation': 'Q112099',\n",
       "   'microstate': 'Q244381',\n",
       "   'sovereign_state': 'Q3624078',\n",
       "   'kingdom': 'Q417175',\n",
       "   'emirate': 'Q189898',\n",
       "   'city_state': 'Q133442',\n",
       "   'developed_country': 'Q132453'},\n",
       "  'country'),\n",
       " ({'street': 'Q79007', 'avenue': 'Q7543083', 'prospekt': 'Q907698'}, 'street'),\n",
       " ({'posyolok': 'Q2514025', 'urban_type_settlement': 'Q2989457'}, 'posyolok'),\n",
       " ({'city': 'Q515',\n",
       "   'megacity': 'Q174844',\n",
       "   'town': 'Q3957',\n",
       "   'capital': 'Q5119',\n",
       "   'federal_city_of_russia': 'Q183342',\n",
       "   'city_with_millions_of_inhabitants': 'Q1637706',\n",
       "   'city_state': 'Q133442',\n",
       "   'center_of_oblast': 'Q12134916',\n",
       "   'administrative_centre': 'Q1306755'},\n",
       "  'city'),\n",
       " ({'human_settlement': 'Q486972',\n",
       "   'hamlet': 'Q5084',\n",
       "   'village': 'Q532',\n",
       "   'khutor': 'Q2023000',\n",
       "   'suburb': 'Q188509',\n",
       "   'locality': 'Q3257686'},\n",
       "  'human_settlement'),\n",
       " ({'park': 'Q22698',\n",
       "   'national_park': 'Q46169',\n",
       "   'nature_park': 'Q728904',\n",
       "   'urban_forest': 'Q1197552',\n",
       "   'garden_square': 'Q2026833'},\n",
       "  'park'),\n",
       " ({'forest': 'Q4421',\n",
       "   'forested_area': 'Q17057172',\n",
       "   'urban_forest': 'Q1197552'},\n",
       "  'forest'),\n",
       " ({'summit': 'Q207326', 'highest_point': 'Q3393392'}, 'highest_point'),\n",
       " ({'canyon': 'Q150784', 'ravine': 'Q2042028', 'valley': 'Q39816'}, 'valley'),\n",
       " ({'plain': 'Q160091', 'lowland': 'Q193071', 'plateau': 'Q75520'}, 'plain'),\n",
       " ({'basin': 'Q813672', 'oceanic_trench': 'Q119253'}, 'basin'),\n",
       " ({'hill': 'Q54050',\n",
       "   'highland': 'Q878223',\n",
       "   'upland': 'Q55075651',\n",
       "   'ridge': 'Q740445',\n",
       "   'sopka': 'Q2997316'},\n",
       "  'upland'),\n",
       " ({'island': 'Q23442', 'atoll': 'Q42523', 'desert_island': 'Q1065592'},\n",
       "  'island'),\n",
       " ({'rock': 'Q1404150', 'cliffed_coast': 'Q6502866'}, 'rock'),\n",
       " ({'volcano': 'Q8072',\n",
       "   'active_volcano': 'Q1330974',\n",
       "   'dormant_volcano': 'Q1325302',\n",
       "   'extinct_volcano': 'Q1197120'},\n",
       "  'volcano'),\n",
       " ({'mountain': 'Q8502',\n",
       "   'massif': 'Q1061151',\n",
       "   'mountain_range': 'Q46831',\n",
       "   'sierra': 'Q22911774'},\n",
       "  'mountain')]"
      ]
     },
     "execution_count": 210,
     "metadata": {},
     "output_type": "execute_result"
    }
   ],
   "source": [
    "arr"
   ]
  },
  {
   "cell_type": "code",
   "execution_count": 211,
   "metadata": {},
   "outputs": [
    {
     "name": "stderr",
     "output_type": "stream",
     "text": [
      "\n",
      "\n",
      "\n",
      "\n",
      "  0%|                                                                                           | 0/34 [00:00<?, ?it/s]"
     ]
    },
    {
     "name": "stdout",
     "output_type": "stream",
     "text": [
      "state_of_the_united_states state\n",
      "state_of_india state\n",
      "state_of_australia state\n",
      "state_of_venezuela state\n",
      "state_or_territory_of_australia state\n",
      "federated_state state\n"
     ]
    },
    {
     "name": "stderr",
     "output_type": "stream",
     "text": [
      "\n",
      "\n",
      "\n",
      "\n",
      " 50%|█████████████████████████████████████████                                         | 17/34 [00:03<00:03,  5.42it/s]"
     ]
    },
    {
     "name": "stdout",
     "output_type": "stream",
     "text": [
      "republic republic\n",
      "republic_of_russia republic\n"
     ]
    },
    {
     "name": "stderr",
     "output_type": "stream",
     "text": [
      "\n",
      "\n",
      "\n",
      "\n",
      " 53%|███████████████████████████████████████████▍                                      | 18/34 [00:04<00:08,  1.87it/s]"
     ]
    },
    {
     "name": "stdout",
     "output_type": "stream",
     "text": [
      "country country\n",
      "state country\n",
      "federated_state country\n",
      "island_nation country\n",
      "microstate country\n",
      "sovereign_state country\n",
      "kingdom country\n",
      "emirate country\n",
      "city_state country\n",
      "developed_country country\n"
     ]
    },
    {
     "name": "stderr",
     "output_type": "stream",
     "text": [
      "\n",
      "\n",
      "\n",
      "\n",
      " 56%|█████████████████████████████████████████████▊                                    | 19/34 [00:15<00:54,  3.65s/it]"
     ]
    },
    {
     "name": "stdout",
     "output_type": "stream",
     "text": [
      "street street\n",
      "avenue street\n",
      "prospekt street\n"
     ]
    },
    {
     "name": "stderr",
     "output_type": "stream",
     "text": [
      "\n",
      "\n",
      "\n",
      "\n",
      " 59%|████████████████████████████████████████████████▏                                 | 20/34 [00:17<00:44,  3.18s/it]"
     ]
    },
    {
     "name": "stdout",
     "output_type": "stream",
     "text": [
      "posyolok posyolok\n",
      "urban_type_settlement posyolok\n"
     ]
    },
    {
     "name": "stderr",
     "output_type": "stream",
     "text": [
      "\n",
      "\n",
      "\n",
      "\n",
      " 62%|██████████████████████████████████████████████████▋                               | 21/34 [00:18<00:32,  2.50s/it]"
     ]
    },
    {
     "name": "stdout",
     "output_type": "stream",
     "text": [
      "city city\n",
      "megacity city\n",
      "town city\n",
      "capital city\n",
      "federal_city_of_russia city\n",
      "city_with_millions_of_inhabitants city\n"
     ]
    },
    {
     "name": "stderr",
     "output_type": "stream",
     "text": [
      "D:\\Anaconda\\lib\\site-packages\\openpyxl\\workbook\\child.py:99: UserWarning: Title is more than 31 characters. Some applications may not be able to read the file\n",
      "  warnings.warn(\"Title is more than 31 characters. Some applications may not be able to read the file\")\n"
     ]
    },
    {
     "name": "stdout",
     "output_type": "stream",
     "text": [
      "city_state city\n",
      "center_of_oblast city\n",
      "administrative_centre city\n"
     ]
    },
    {
     "name": "stderr",
     "output_type": "stream",
     "text": [
      "\n",
      "\n",
      "\n",
      "\n",
      " 65%|█████████████████████████████████████████████████████                             | 22/34 [00:24<00:42,  3.51s/it]"
     ]
    },
    {
     "name": "stdout",
     "output_type": "stream",
     "text": [
      "human_settlement human_settlement\n",
      "hamlet human_settlement\n",
      "village human_settlement\n",
      "khutor human_settlement\n",
      "suburb human_settlement\n",
      "locality human_settlement\n"
     ]
    },
    {
     "name": "stderr",
     "output_type": "stream",
     "text": [
      "\n",
      "\n",
      "\n",
      "\n",
      " 68%|███████████████████████████████████████████████████████▍                          | 23/34 [00:44<01:32,  8.45s/it]"
     ]
    },
    {
     "name": "stdout",
     "output_type": "stream",
     "text": [
      "park park\n",
      "national_park park\n",
      "nature_park park\n",
      "urban_forest park\n",
      "garden_square park\n"
     ]
    },
    {
     "name": "stderr",
     "output_type": "stream",
     "text": [
      "\n",
      "\n",
      "\n",
      "\n",
      " 71%|█████████████████████████████████████████████████████████▉                        | 24/34 [00:48<01:10,  7.06s/it]"
     ]
    },
    {
     "name": "stdout",
     "output_type": "stream",
     "text": [
      "forest forest\n",
      "forested_area forest\n",
      "urban_forest forest\n"
     ]
    },
    {
     "name": "stderr",
     "output_type": "stream",
     "text": [
      "\n",
      "\n",
      "\n",
      "\n",
      " 74%|████████████████████████████████████████████████████████████▎                     | 25/34 [00:51<00:53,  5.99s/it]"
     ]
    },
    {
     "name": "stdout",
     "output_type": "stream",
     "text": [
      "highest_point highest_point\n",
      "summit highest_point\n"
     ]
    },
    {
     "name": "stderr",
     "output_type": "stream",
     "text": [
      "\n",
      "\n",
      "\n",
      "\n",
      " 76%|██████████████████████████████████████████████████████████████▋                   | 26/34 [00:52<00:35,  4.48s/it]"
     ]
    },
    {
     "name": "stdout",
     "output_type": "stream",
     "text": [
      "valley valley\n",
      "canyon valley\n",
      "ravine valley\n"
     ]
    },
    {
     "name": "stderr",
     "output_type": "stream",
     "text": [
      "\n",
      "\n",
      "\n",
      "\n",
      " 79%|█████████████████████████████████████████████████████████████████                 | 27/34 [00:54<00:25,  3.65s/it]"
     ]
    },
    {
     "name": "stdout",
     "output_type": "stream",
     "text": [
      "plain plain\n",
      "lowland plain\n",
      "plateau plain\n"
     ]
    },
    {
     "name": "stderr",
     "output_type": "stream",
     "text": [
      "\n",
      "\n",
      "\n",
      "\n",
      " 82%|███████████████████████████████████████████████████████████████████▌              | 28/34 [00:55<00:17,  2.90s/it]"
     ]
    },
    {
     "name": "stdout",
     "output_type": "stream",
     "text": [
      "basin basin\n",
      "oceanic_trench basin\n"
     ]
    },
    {
     "name": "stderr",
     "output_type": "stream",
     "text": [
      "\n",
      "\n",
      "\n",
      "\n",
      " 85%|█████████████████████████████████████████████████████████████████████▉            | 29/34 [00:56<00:11,  2.22s/it]"
     ]
    },
    {
     "name": "stdout",
     "output_type": "stream",
     "text": [
      "upland upland\n",
      "hill upland\n",
      "highland upland\n",
      "ridge upland\n",
      "sopka upland\n"
     ]
    },
    {
     "name": "stderr",
     "output_type": "stream",
     "text": [
      "\n",
      "\n",
      "\n",
      "\n",
      " 88%|████████████████████████████████████████████████████████████████████████▎         | 30/34 [00:58<00:09,  2.29s/it]"
     ]
    },
    {
     "name": "stdout",
     "output_type": "stream",
     "text": [
      "island island\n",
      "atoll island\n",
      "desert_island island\n"
     ]
    },
    {
     "name": "stderr",
     "output_type": "stream",
     "text": [
      "\n",
      "\n",
      "\n",
      "\n",
      " 91%|██████████████████████████████████████████████████████████████████████████▊       | 31/34 [01:00<00:06,  2.12s/it]"
     ]
    },
    {
     "name": "stdout",
     "output_type": "stream",
     "text": [
      "rock rock\n",
      "cliffed_coast rock\n"
     ]
    },
    {
     "name": "stderr",
     "output_type": "stream",
     "text": [
      "\n",
      "\n",
      "\n",
      "\n",
      " 94%|█████████████████████████████████████████████████████████████████████████████▏    | 32/34 [01:01<00:03,  1.74s/it]"
     ]
    },
    {
     "name": "stdout",
     "output_type": "stream",
     "text": [
      "volcano volcano\n",
      "active_volcano volcano\n",
      "dormant_volcano volcano\n",
      "extinct_volcano volcano\n"
     ]
    },
    {
     "name": "stderr",
     "output_type": "stream",
     "text": [
      "\n",
      "\n",
      "\n",
      "\n",
      " 97%|███████████████████████████████████████████████████████████████████████████████▌  | 33/34 [01:02<00:01,  1.68s/it]"
     ]
    },
    {
     "name": "stdout",
     "output_type": "stream",
     "text": [
      "mountain mountain\n",
      "massif mountain\n",
      "mountain_range mountain\n",
      "sierra mountain\n"
     ]
    },
    {
     "name": "stderr",
     "output_type": "stream",
     "text": [
      "\n",
      "\n",
      "\n",
      "\n",
      "100%|██████████████████████████████████████████████████████████████████████████████████| 34/34 [01:04<00:00,  1.90s/it]\n"
     ]
    }
   ],
   "source": [
    "for item in tqdm(arr):\n",
    "    new_file(item[1] , item[0])"
   ]
  },
  {
   "cell_type": "code",
   "execution_count": 212,
   "metadata": {},
   "outputs": [
    {
     "data": {
      "text/plain": [
       "[({'port': 'Q44782', 'seaport': 'Q15310171'}, 'port'),\n",
       " ({'road': 'Q34442',\n",
       "   'highway': 'Q269949',\n",
       "   'controlled_access_highway': 'Q46622',\n",
       "   'aerial_lift': 'Q13409250'},\n",
       "  'road'),\n",
       " ({'tunnel': 'Q44377',\n",
       "   'road_tunnel': 'Q2354973',\n",
       "   'railway_tunnel': 'Q1311958'},\n",
       "  'tunnel'),\n",
       " ({'bridge': 'Q12280',\n",
       "   'arch_bridge': 'Q158438',\n",
       "   'suspension_bridge': 'Q12570',\n",
       "   'moveable_bridge': 'Q787417'},\n",
       "  'bridge'),\n",
       " ({'pyramid': 'Q12516', 'egyptian_pyramids': 'Q175582'}, 'pyramid'),\n",
       " ({'building': 'Q41176',\n",
       "   'skyscraper': 'Q11303',\n",
       "   'house': 'Q3947',\n",
       "   'castle': 'Q23413'},\n",
       "  'building'),\n",
       " ({'architectural_structure': 'Q811979',\n",
       "   'tower': 'Q12518',\n",
       "   'statue': 'Q179700',\n",
       "   'monument': 'Q4989906',\n",
       "   'transmitter_mast': 'Q1068623',\n",
       "   'lighthouse': 'Q39715',\n",
       "   'cathedral': 'Q2977',\n",
       "   'church_building': 'Q16970',\n",
       "   'mosque': 'Q32815',\n",
       "   'museum': 'Q33506',\n",
       "   'theatre': 'Q24354',\n",
       "   'airport': 'Q1248784',\n",
       "   'square': 'Q174782',\n",
       "   'swimming_pool': 'Q1501',\n",
       "   'well': 'Q43483',\n",
       "   'stadium': 'Q483110',\n",
       "   'piste': 'Q1281105',\n",
       "   'tomb': 'Q381885',\n",
       "   'aerial_lift': 'Q13409250',\n",
       "   'ferris_wheel': 'Q202570',\n",
       "   'pier': 'Q863454',\n",
       "   'fountain': 'Q483453'},\n",
       "  'architectural_structure'),\n",
       " ({'river': 'Q4022',\n",
       "   'navigable_river': 'Q4445519',\n",
       "   'drainage_system': 'Q285451',\n",
       "   'tributary': 'Q159675'},\n",
       "  'river'),\n",
       " ({'sea': 'Q165', 'mediterranean_sea': 'Q986177'}, 'sea'),\n",
       " ({'bay': 'Q39594',\n",
       "   'fjord': 'Q45776',\n",
       "   'lagoon': 'Q187223',\n",
       "   'liman': 'Q156030'},\n",
       "  'bay'),\n",
       " ({'canal': 'Q12284', 'ship_canal': 'Q949819'}, 'canal'),\n",
       " ({'lake': 'Q23397',\n",
       "   'salt_lake': 'Q188025',\n",
       "   'volcanic_crater_lake': 'Q204324'},\n",
       "  'lake'),\n",
       " ({'still_waters': 'Q337567',\n",
       "   'ocean': 'Q9430',\n",
       "   'pond': 'Q3253281',\n",
       "   'reservoir': 'Q131681',\n",
       "   'marsh': 'Q30198'},\n",
       "  'still_waters'),\n",
       " ({'region': 'Q82794',\n",
       "   'administrative_region': 'Q3455524',\n",
       "   'krai_of_russia': 'Q831740',\n",
       "   'krai': 'Q2738486',\n",
       "   'federal_subject_of_russia': 'Q43263',\n",
       "   'republic_of_russia': 'Q41162'},\n",
       "  'region'),\n",
       " ({'federal_district_of_russia': 'Q484215',\n",
       "   'federal_district': 'Q475050',\n",
       "   'autonomous_okrug_of_russia': 'Q184122',\n",
       "   'district': 'Q149621',\n",
       "   'administrative_okrug_of_moscow': 'Q4057820',\n",
       "   'urban_district': 'Q15642599'},\n",
       "  'district'),\n",
       " ({'oblast_of_russia': 'Q835714',\n",
       "   'oblast ': 'Q171308',\n",
       "   'regions_of_belarus': 'Q209325'},\n",
       "  'oblast '),\n",
       " ({'state_of_the_united_states': 'Q35657',\n",
       "   'state_of_india': 'Q13390680',\n",
       "   'state_of_australia': 'Q5852411',\n",
       "   'state_of_venezuela': 'Q501094',\n",
       "   'state_or_territory_of_australia': 'Q178712',\n",
       "   'federated_state': 'Q107390'},\n",
       "  'state'),\n",
       " ({'republic_of_russia': 'Q41162'}, 'republic'),\n",
       " ({'state': 'Q7275',\n",
       "   'federated_state': 'Q107390',\n",
       "   'island_nation': 'Q112099',\n",
       "   'microstate': 'Q244381',\n",
       "   'sovereign_state': 'Q3624078',\n",
       "   'kingdom': 'Q417175',\n",
       "   'emirate': 'Q189898',\n",
       "   'city_state': 'Q133442',\n",
       "   'developed_country': 'Q132453'},\n",
       "  'country'),\n",
       " ({'avenue': 'Q7543083', 'prospekt': 'Q907698'}, 'street'),\n",
       " ({'urban_type_settlement': 'Q2989457'}, 'posyolok'),\n",
       " ({'megacity': 'Q174844',\n",
       "   'town': 'Q3957',\n",
       "   'capital': 'Q5119',\n",
       "   'federal_city_of_russia': 'Q183342',\n",
       "   'city_with_millions_of_inhabitants': 'Q1637706',\n",
       "   'city_state': 'Q133442',\n",
       "   'center_of_oblast': 'Q12134916',\n",
       "   'administrative_centre': 'Q1306755'},\n",
       "  'city'),\n",
       " ({'hamlet': 'Q5084',\n",
       "   'village': 'Q532',\n",
       "   'khutor': 'Q2023000',\n",
       "   'suburb': 'Q188509',\n",
       "   'locality': 'Q3257686'},\n",
       "  'human_settlement'),\n",
       " ({'national_park': 'Q46169',\n",
       "   'nature_park': 'Q728904',\n",
       "   'urban_forest': 'Q1197552',\n",
       "   'garden_square': 'Q2026833'},\n",
       "  'park'),\n",
       " ({'forested_area': 'Q17057172', 'urban_forest': 'Q1197552'}, 'forest'),\n",
       " ({'summit': 'Q207326'}, 'highest_point'),\n",
       " ({'canyon': 'Q150784', 'ravine': 'Q2042028'}, 'valley'),\n",
       " ({'lowland': 'Q193071', 'plateau': 'Q75520'}, 'plain'),\n",
       " ({'oceanic_trench': 'Q119253'}, 'basin'),\n",
       " ({'hill': 'Q54050',\n",
       "   'highland': 'Q878223',\n",
       "   'ridge': 'Q740445',\n",
       "   'sopka': 'Q2997316'},\n",
       "  'upland'),\n",
       " ({'atoll': 'Q42523', 'desert_island': 'Q1065592'}, 'island'),\n",
       " ({'cliffed_coast': 'Q6502866'}, 'rock'),\n",
       " ({'active_volcano': 'Q1330974',\n",
       "   'dormant_volcano': 'Q1325302',\n",
       "   'extinct_volcano': 'Q1197120'},\n",
       "  'volcano'),\n",
       " ({'massif': 'Q1061151', 'mountain_range': 'Q46831', 'sierra': 'Q22911774'},\n",
       "  'mountain')]"
      ]
     },
     "execution_count": 212,
     "metadata": {},
     "output_type": "execute_result"
    }
   ],
   "source": [
    "arr"
   ]
  },
  {
   "cell_type": "code",
   "execution_count": 40,
   "metadata": {},
   "outputs": [],
   "source": [
    "getting_subclass([\"Q4022\"] , 'Реки')"
   ]
  },
  {
   "cell_type": "code",
   "execution_count": 52,
   "metadata": {},
   "outputs": [
    {
     "name": "stdout",
     "output_type": "stream",
     "text": [
      "{'dr:port': ['Q44782', 'dr:seaport'], 'dr:road': ['Q34442', 'dr:highway', 'dr:controlled_access_highway', 'dr:aerial_lift'], 'dr:tunnel': ['Q44377', 'dr:road_tunnel', 'dr:railway_tunnel'], 'dr:bridge': ['Q12280', 'dr:arch_bridge', 'dr:suspension_bridge', 'dr:moveable_bridge'], 'dr:pyramid': ['Q12516', 'dr:egyptian_pyramids'], 'dr:building': ['Q41176', 'dr:skyscraper', 'dr:house', 'dr:castle'], 'dr:architectural_structure': ['Q811979', 'dr:tower', 'dr:statue', 'dr:monument', 'dr:transmitter_mast', 'dr:lighthouse', 'dr:cathedral', 'dr:church_building', 'dr:mosque', 'dr:building', 'dr:pyramid', 'dr:bridge', 'dr:museum', 'dr:theatre', 'dr:airport', 'dr:square', 'dr:swimming_pool', 'dr:well', 'dr:stadium', 'dr:piste', 'dr:tomb', 'dr:aerial_lift', 'dr:ferris_wheel', 'dr:pier', 'dr:fountain'], 'dr:river': ['Q4022', 'dr:navigable_river', 'dr:drainage_system', 'dr:tributary'], 'dr:sea': ['Q165', 'dr:mediterranean_sea'], 'dr:bay': ['Q39594', 'dr:fjord', 'dr:lagoon', 'dr:liman'], 'dr:canal': ['Q12284', 'dr:ship_canal'], 'dr:lake': ['Q23397', 'dr:salt_lake', 'dr:volcanic_crater_lake'], 'dr:still_waters': ['Q337567', 'dr:lake', 'dr:ocean', 'dr:pond', 'dr:reservoir', 'dr:marsh', 'dr:sea'], 'dr:region': ['Q82794', 'dr:administrative_region', 'dr:krai_of_russia', 'dr:krai', 'dr:federal_subject_of_russia', 'dr:republic_of_russia', 'dr:oblast ', 'dr:republic_of_russia'], 'dr:district': ['dr:federal_district_of_russia', 'dr:federal_district', 'dr:autonomous_okrug_of_russia', 'Q149621', 'dr:administrative_okrug_of_moscow', 'dr:urban_district'], 'dr:oblast ': ['dr:oblast_of_russia', 'Q171308', 'dr:regions_of_belarus'], 'dr:state': ['dr:state_of_the_united_states', 'dr:state_of_india', 'dr:state_of_australia', 'dr:state_of_venezuela', 'dr:state_or_territory_of_australia', 'dr:federated_state'], 'dr:republic': ['Q7270', 'dr:republic_of_russia'], 'dr:country': ['Q6256', 'dr:state', 'dr:federated_state', 'dr:island_nation', 'dr:microstate', 'dr:sovereign_state', 'dr:republic', 'dr:kingdom', 'dr:emirate', 'dr:city_state', 'dr:developed_country'], 'dr:street': ['Q79007', 'dr:avenue', 'dr:prospekt'], 'dr:posyolok': ['Q2514025', 'dr:urban_type_settlement'], 'dr:city': ['Q515', 'dr:megacity', 'dr:town', 'dr:capital', 'dr:federal_city_of_russia', 'dr:city_with_millions_of_inhabitants', 'dr:city_state', 'dr:center_of_oblast', 'dr:administrative_centre'], 'dr:human_settlement': ['Q486972', 'dr:city', 'dr:posyolok', 'dr:hamlet', 'dr:village', 'dr:khutor', 'dr:suburb', 'dr:locality'], 'dr:park': ['Q22698', 'dr:national_park', 'dr:nature_park', 'dr:urban_forest', 'dr:garden_square'], 'dr:forest': ['Q4421', 'dr:forested_area', 'dr:urban_forest'], 'dr:highest_point': ['dr:summit', 'Q3393392'], 'dr:valley': ['dr:canyon', 'dr:ravine', 'Q39816'], 'dr:plain': ['Q160091', 'dr:lowland', 'dr:plateau'], 'dr:basin': ['Q813672', 'dr:oceanic_trench'], 'dr:upland': ['dr:hill', 'dr:highland', 'Q55075651', 'dr:ridge', 'dr:sopka'], 'dr:island': ['Q23442', 'dr:atoll', 'dr:desert_island'], 'dr:rock': ['Q1404150', 'dr:cliffed_coast'], 'dr:volcano': ['Q8072', 'dr:active_volcano', 'dr:dormant_volcano', 'dr:extinct_volcano'], 'dr:mountain': ['Q8502', 'dr:massif', 'dr:volcano', 'dr:mountain_range', 'dr:sierra']}\n"
     ]
    }
   ],
   "source": [
    "with open(r'wikidata\\artificial_classes\\data\\artificial_w_singletonsv6.json') as f:\n",
    "    d = json.load(f)\n",
    "print(d)"
   ]
  },
  {
   "cell_type": "code",
   "execution_count": 53,
   "metadata": {},
   "outputs": [
    {
     "data": {
      "text/plain": [
       "dict_keys(['dr:federal_district', 'dr:liman', 'dr:mosque', 'dr:economic_region', 'dr:state_or_territory_of_australia', 'dr:sinkhole', 'dr:arch_bridge', 'dr:mine', 'dr:slope', 'dr:salt_lake', 'dr:tributary', 'dr:mountain_range', 'dr:typhoon', 'dr:federated_state', 'dr:city_with_millions_of_inhabitants', 'dr:dam', 'dr:spa_town', 'dr:geographical_object', 'dr:suspension_bridge', 'dr:theatre', 'dr:prospekt', 'dr:coral_reef', 'dr:federal_district_of_russia', 'dr:promenade', 'dr:emirate', 'dr:garden_square', 'dr:desert', 'dr:kingdom', 'dr:continental_area_and_surrounding_islands', 'dr:flight', 'dr:coast', 'dr:geographic_location', 'dr:fountain', 'dr:underground_mine', 'dr:drainage_system', 'dr:republic_of_russia', 'dr:quarry', 'dr:administrative_centre', 'dr:hemisphere_of_the_earth', 'dr:volcanic_crater_lake', 'dr:cliff', 'dr:capital', 'dr:oasis', 'dr:cave', 'dr:city_state', 'dr:microstate', 'dr:reef', 'dr:waterfall', 'dr:island_nation', 'dr:tower', 'dr:piste', 'dr:cathedral', 'dr:federal_city_of_russia', 'dr:canyon', 'dr:governorate', 'dr:impact_crater', 'dr:drainage_basin', 'dr:geographical_pole', 'dr:continental_shelf', 'dr:ravine', 'dr:seaport', 'dr:lighthouse', 'dr:borehole', 'dr:state_of_australia', 'dr:metro_station', 'dr:peninsula', 'dr:ridge', 'dr:sand_mine', 'dr:hill', 'dr:track', 'dr:extinct_volcano', 'dr:beach', 'dr:department_of_france', 'dr:swimming_pool', 'dr:mediterranean_sea', 'dr:urban_forest', 'dr:strait', 'dr:tombstone', 'dr:building_pit', 'dr:isthmus', 'dr:nature_reserve', 'dr:cove', 'dr:climate_zone', 'dr:skyscraper', 'dr:federal_subject_of_russia', 'dr:square', 'dr:county', 'dr:province_of_thailand', 'dr:regions_of_belarus', 'dr:highland', 'dr:current_(fluid)', 'dr:ship_canal', 'dr:tree', 'dr:commune_of_france', 'dr:statue', 'dr:hot_spring', 'dr:watercourse', 'dr:administrative_okrug_of_moscow', 'dr:airport', 'dr:ferris_wheel', 'dr:crater', 'dr:kurgan', 'dr:oblast_of_russia', 'dr:well', 'dr:time_zone', 'dr:steppe', 'dr:cardinal_direction', 'dr:unesco_world_heritage_site', 'dr:state', 'dr:lagoon', 'dr:forested_area', 'dr:volcanic_crater', 'dr:snow_field', 'dr:navigable_river', 'dr:state_of_india', 'dr:avenue', 'dr:dormant_volcano', 'dr:locality', 'dr:highway', 'dr:transmitter_mast', 'dr:monument', 'dr:tundra', 'dr:controlled_access_highway', 'dr:pond', 'dr:railway', 'dr:house', 'dr:stadium', 'dr:town', 'dr:national_park', 'dr:moat', 'dr:art_of_sculpture', 'dr:administrative_region', 'dr:continent', 'dr:cape', 'dr:tectonic_plate', 'dr:mountain_pass', 'dr:reservoir', 'dr:plateau', 'dr:fault', 'dr:railway_station', 'dr:cliffed_coast', 'dr:province', 'dr:coastal_line', 'dr:lowland', 'dr:developed_country', 'dr:state_of_the_united_states', 'dr:artesian_well', 'dr:spire', 'dr:center_of_oblast', 'dr:latitude', 'dr:glacier', 'dr:egyptian_pyramids', 'dr:moveable_bridge', 'dr:river_delta', 'dr:tomb', 'dr:road_tunnel', 'dr:church_building', 'dr:suburb', 'dr:aerial_lift', 'dr:seabed', 'dr:marsh', 'dr:megacity', 'dr:summit', 'dr:tide', 'dr:active_volcano', 'dr:fjord', 'dr:urban_type_settlement', 'dr:pier', 'dr:wonders_of_the_world', 'dr:fluid_flow', 'dr:archipelago', 'dr:desert_island', 'dr:prairie', 'dr:quarter', 'dr:krai', 'dr:sovereign_state', 'dr:body_of_water', 'dr:geyser', 'dr:state_of_venezuela', 'dr:village', 'dr:urban_district', 'dr:eurasia', 'dr:massif', 'dr:ocean_current', 'dr:khutor', 'dr:railway_tunnel', 'dr:castle', 'dr:sopka', 'dr:nature_park', 'dr:rapid_transit', 'dr:autonomous_okrug_of_russia', 'dr:brook', 'dr:ocean', 'dr:sierra', 'dr:group_of_lakes', 'dr:hamlet', 'dr:oceanic_trench', 'dr:atoll', 'dr:meridian', 'dr:krai_of_russia', 'dr:mineral_deposit', 'dr:museum'])"
      ]
     },
     "execution_count": 53,
     "metadata": {},
     "output_type": "execute_result"
    }
   ],
   "source": [
    "with open(r'wikidata\\artificial_classes\\data\\singletons_v6.json') as f:\n",
    "    d2 = json.load(f)"
   ]
  },
  {
   "cell_type": "code",
   "execution_count": null,
   "metadata": {},
   "outputs": [],
   "source": [
    "new_arr = []\n",
    "for k , v in d:\n",
    "    for item in v:\n",
    "        if v[0] = 'Q':"
   ]
  }
 ],
 "metadata": {
  "kernelspec": {
   "display_name": "Python 3",
   "language": "python",
   "name": "python3"
  },
  "language_info": {
   "codemirror_mode": {
    "name": "ipython",
    "version": 3
   },
   "file_extension": ".py",
   "mimetype": "text/x-python",
   "name": "python",
   "nbconvert_exporter": "python",
   "pygments_lexer": "ipython3",
   "version": "3.7.4"
  }
 },
 "nbformat": 4,
 "nbformat_minor": 2
}
