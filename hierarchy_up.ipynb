{
 "cells": [
  {
   "cell_type": "code",
   "execution_count": 1,
   "metadata": {},
   "outputs": [],
   "source": [
    "import dask\n",
    "from fake_useragent import UserAgent\n",
    "from SPARQLWrapper import SPARQLWrapper, JSON, XML\n",
    "import pandas as pd\n",
    "import json\n",
    "import time\n",
    "import bookquery\n",
    "import os\n",
    "import io\n",
    "from pathlib import Path\n",
    "from tqdm import tqdm\n",
    "from pathlib import Path\n",
    "\n",
    "dir_with_files = Path.cwd() / 'depended_countries' \n",
    "dir_with_graph =  Path.cwd() / 'graph' "
   ]
  },
  {
   "cell_type": "code",
   "execution_count": 2,
   "metadata": {},
   "outputs": [],
   "source": [
    "ua = UserAgent()\n",
    "bad_requests = []\n",
    "\n",
    "def execute_query(qquery, entity_id):\n",
    "    sparql = SPARQLWrapper(\"https://query.wikidata.org/sparql\", agent = ua.random)\n",
    "    sparql.setQuery(qquery.format(qid = f'wd:{entity_id}'))\n",
    "    sparql.setReturnFormat(JSON)\n",
    "    results = sparql.query().convert()\n",
    "    return results['results']['bindings']\n",
    "\n",
    "def instanceOf(entity_id, f = 0):\n",
    "        res = []\n",
    "        if f > 5:\n",
    "            global bad_requests\n",
    "            bad_requests.append(entity_id)\n",
    "            print('Bad request ', entity_id)\n",
    "            return None\n",
    "        try:\n",
    "            results= execute_query(bookquery.instance_of_with_entities, entity_id)\n",
    "            for result in results:\n",
    "                entities = {}\n",
    "                entities['class'] = result['qid']['value'].split('/')[-1]\n",
    "                entities['classlabel'] = result['qidLabel']['value']\n",
    "                entities['subclass'] = result['instanceOf']['value'].split('/')[-1]\n",
    "                entities['label'] = result['instanceOfLabel']['value']\n",
    "                res.append(entities)\n",
    "            return pd.DataFrame(data = res, columns = ['class', 'classlabel' ,'subclass', 'label'])\n",
    "        except Exception as e:\n",
    "            print(e)\n",
    "            time.sleep(5)\n",
    "            print('Try again ', entity_id, f)\n",
    "            return entities_sparqul(entity_id, f + 1)\n",
    "        \n",
    "def subclasses(entity_id, f = 0):\n",
    "        res = []\n",
    "        if f > 5:\n",
    "            global bad_requests\n",
    "            bad_requests.append(entity_id)\n",
    "            print('Bad request ', entity_id)\n",
    "            return None\n",
    "        try:\n",
    "            results= execute_query(bookquery.subclass_of_with_entities, entity_id)\n",
    "            for result in results:\n",
    "                entities = {}\n",
    "                entities['class'] = result['qid']['value'].split('/')[-1]\n",
    "                entities['classlabel'] = result['qidLabel']['value']\n",
    "                entities['subclass'] = result['subclass']['value'].split('/')[-1]\n",
    "                entities['label'] = result['subclassLabel']['value']\n",
    "                res.append(entities)\n",
    "            return pd.DataFrame(data = res, columns = ['class', 'classlabel' ,'subclass', 'label'])\n",
    "        except Exception as e:\n",
    "            print(e)\n",
    "            time.sleep(5)\n",
    "            print('Try again ', entity_id, f)\n",
    "            return entities_sparqul(entity_id, f + 1)"
   ]
  },
  {
   "cell_type": "code",
   "execution_count": 3,
   "metadata": {},
   "outputs": [
    {
     "data": {
      "text/plain": [
       "['Q133156',\n",
       " 'Q333542',\n",
       " 'Q1462047',\n",
       " 'Q465613',\n",
       " 'Q1371288',\n",
       " 'Q161243',\n",
       " 'Q164142',\n",
       " 'Q426759',\n",
       " 'Q1138279',\n",
       " 'Q15649510',\n",
       " 'Q1351282',\n",
       " 'Q1151405',\n",
       " 'Q3241965',\n",
       " 'Q182547',\n",
       " 'Q2577883',\n",
       " 'Q2327385',\n",
       " 'Q223832',\n",
       " 'Q21479969',\n",
       " 'Q18920569',\n",
       " 'Q17259945',\n",
       " 'Q41792036',\n",
       " 'Q985073',\n",
       " 'Q44565',\n",
       " 'Q325261',\n",
       " 'Q208164',\n",
       " 'Q188686',\n",
       " 'Q56167919',\n",
       " 'Q26830017',\n",
       " 'Q15649504',\n",
       " 'Q543813',\n",
       " 'Q26879763',\n",
       " 'Q7448101']"
      ]
     },
     "execution_count": 3,
     "metadata": {},
     "output_type": "execute_result"
    }
   ],
   "source": [
    "df = pd.read_excel(dir_with_files / 'instances_of_countries_list.xlsx')\n",
    "new_df = df[(df.Check == 1) | (df.Check == 0)]\n",
    "list(new_df['instaceOf'])"
   ]
  },
  {
   "cell_type": "code",
   "execution_count": 4,
   "metadata": {},
   "outputs": [
    {
     "name": "stderr",
     "output_type": "stream",
     "text": [
      "100%|████████████████████████████████████████████████████████████████████████████████████| 5/5 [00:18<00:00,  3.63s/it]\n"
     ]
    }
   ],
   "source": [
    "for itter in tqdm(range(5)):\n",
    "    res = []\n",
    "    exl = pd.read_excel(dir_with_graph /'depended_countries_instance_without_0.xlsx', sheet_name= f'+{itter}_зависимые_территории') #читаешь эксель где все qid по которым надо идти наверх\n",
    "    for i in exl['subclass']:\n",
    "        res.append(instanceOf(i))\n",
    "    final_result = pd.concat(res)\n",
    "    with pd.ExcelWriter(dir_with_graph /'depended_countries_instance_without_0.xlsx' ,  engine=\"openpyxl\" , mode  = 'a') as writer:\n",
    "            final_result.to_excel(writer, sheet_name = f'+{itter+1}_зависимые_территории' , encoding='utf-8-sig' , index = False)"
   ]
  },
  {
   "cell_type": "code",
   "execution_count": 5,
   "metadata": {},
   "outputs": [
    {
     "name": "stderr",
     "output_type": "stream",
     "text": [
      "100%|████████████████████████████████████████████████████████████████████████████████████| 5/5 [02:16<00:00, 27.23s/it]\n"
     ]
    }
   ],
   "source": [
    "for itter in tqdm(range(5)):\n",
    "    res = []\n",
    "    exl = pd.read_excel(dir_with_graph /'depended_countries_subclasses_without_0.xlsx', sheet_name= f'+{itter}_зависимые_территории') #читаешь эксель где все qid по которым надо идти наверх\n",
    "    for i in exl['subclass']:\n",
    "        res.append(subclasses(i))\n",
    "    final_result = pd.concat(res)\n",
    "    with pd.ExcelWriter(dir_with_graph /'depended_countries_subclasses_without_0.xlsx' ,  engine=\"openpyxl\" , mode  = 'a') as writer:\n",
    "            final_result.to_excel(writer, sheet_name = f'+{itter+1}_зависимые_территории' , encoding='utf-8-sig' , index = False)"
   ]
  },
  {
   "cell_type": "code",
   "execution_count": 7,
   "metadata": {},
   "outputs": [
    {
     "name": "stderr",
     "output_type": "stream",
     "text": [
      "100%|████████████████████████████████████████████████████████████████████████████████████| 5/5 [00:25<00:00,  5.13s/it]\n"
     ]
    }
   ],
   "source": [
    "for itter in tqdm(range(5)):\n",
    "    res = []\n",
    "    exl = pd.read_excel(dir_with_graph /'depended_countries_instance.xlsx', sheet_name= f'+{itter}_зависимые_территории') #читаешь эксель где все qid по которым надо идти наверх\n",
    "    for i in exl['subclass']:\n",
    "        res.append(instanceOf(i))\n",
    "    final_result = pd.concat(res)\n",
    "    with pd.ExcelWriter(dir_with_graph /'depended_countries_instance.xlsx' ,  engine=\"openpyxl\" , mode  = 'a') as writer:\n",
    "            final_result.to_excel(writer, sheet_name = f'+{itter+1}_зависимые_территории' , encoding='utf-8-sig' , index = False)"
   ]
  },
  {
   "cell_type": "code",
   "execution_count": 8,
   "metadata": {},
   "outputs": [
    {
     "name": "stderr",
     "output_type": "stream",
     "text": [
      "100%|████████████████████████████████████████████████████████████████████████████████████| 5/5 [03:05<00:00, 37.07s/it]\n"
     ]
    }
   ],
   "source": [
    "for itter in tqdm(range(5)):\n",
    "    res = []\n",
    "    exl = pd.read_excel(dir_with_graph /'depended_countries_subclasses.xlsx', sheet_name= f'+{itter}_зависимые_территории') #читаешь эксель где все qid по которым надо идти наверх\n",
    "    for i in exl['subclass']:\n",
    "        res.append(subclasses(i))\n",
    "    final_result = pd.concat(res)\n",
    "    with pd.ExcelWriter(dir_with_graph /'depended_countries_subclasses.xlsx' ,  engine=\"openpyxl\" , mode  = 'a') as writer:\n",
    "            final_result.to_excel(writer, sheet_name = f'+{itter+1}_зависимые_территории' , encoding='utf-8-sig' , index = False)"
   ]
  },
  {
   "cell_type": "code",
   "execution_count": null,
   "metadata": {},
   "outputs": [],
   "source": [
    "# for itter in range(5):\n",
    "#     res = []\n",
    "#     exl = pd.read_excel('graph\\graph.xlsx', sheet_name= f'+{itter}_море') #читаешь эксель где все qid по которым надо идти наверх\n",
    "#     for i in exl['subclass']:\n",
    "#         res.append(entities_sparqul(i))\n",
    "#     final_result = pd.concat(res)\n",
    "#     with pd.ExcelWriter(r'graph\\graph.xlsx' ,  engine=\"openpyxl\" , mode  = 'a') as writer:\n",
    "#             final_result.to_excel(writer, sheet_name = f'+{itter+1}_море' , encoding='utf-8-sig' , index = False)"
   ]
  },
  {
   "cell_type": "code",
   "execution_count": null,
   "metadata": {},
   "outputs": [],
   "source": []
  }
 ],
 "metadata": {
  "kernelspec": {
   "display_name": "Python 3",
   "language": "python",
   "name": "python3"
  },
  "language_info": {
   "codemirror_mode": {
    "name": "ipython",
    "version": 3
   },
   "file_extension": ".py",
   "mimetype": "text/x-python",
   "name": "python",
   "nbconvert_exporter": "python",
   "pygments_lexer": "ipython3",
   "version": "3.8.3"
  }
 },
 "nbformat": 4,
 "nbformat_minor": 4
}
