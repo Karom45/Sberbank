{
 "cells": [
  {
   "cell_type": "code",
   "execution_count": null,
   "metadata": {},
   "outputs": [],
   "source": [
    "ua = UserAgent()\n",
    "res = []\n",
    "bad_requests = []\n",
    "\n",
    "def execute_query(qquery, entity_id):\n",
    "    sparql = SPARQLWrapper(\"https://query.wikidata.org/sparql\", agent = ua.random)\n",
    "    sparql.setQuery(qquery.format(entity_id = entity_id))\n",
    "    sparql.setReturnFormat(JSON)\n",
    "    results = sparql.query().convert()\n",
    "    return results['results']['bindings']\n",
    "\n",
    "def entities_sparqul(entity_id, f = 0):\n",
    "        res = []\n",
    "        if f > 5:\n",
    "            global bad_requests\n",
    "            bad_requests.append(entity_id)\n",
    "            print('Bad request ', entity_id)\n",
    "            return None\n",
    "        try:\n",
    "            entities = {}\n",
    "            raw_results= execute_query(bookquery.subclass_entity_count, entity_id)\n",
    "            entities['class'] = i\n",
    "            entities['count_P31'] = raw_results[0]['entitycount']['value']\n",
    "            raw_results= execute_query(bookquery.subclass_entity_count2, entity_id)\n",
    "            entities['count_P31/P279*'] = raw_results[0]['entitycount']['value']\n",
    "            res.append(entities)\n",
    "            return pd.DataFrame(data = res, columns = ['class', 'count_P31', 'count_P31/P279*'])\n",
    "        except Exception as e:\n",
    "            time.sleep(5)\n",
    "            print('Try again ', entity_id, f)\n",
    "            return entities_sparqul(entity_id, f + 1)"
   ]
  },
  {
   "cell_type": "code",
   "execution_count": null,
   "metadata": {},
   "outputs": [],
   "source": [
    "exl = pd.read_excel('.xlsx')\n",
    "for i in exl['subclass']:\n",
    "    res.append(entities_sparqul(i))\n",
    "final_result = pd.concat(res)\n",
    "final_result.to_excel('.xlsx', encoding='utf-8-sig', index = False)"
   ]
  },
  {
   "cell_type": "code",
   "execution_count": 1,
   "metadata": {},
   "outputs": [],
   "source": [
    "import dask\n",
    "from fake_useragent import UserAgent\n",
    "from SPARQLWrapper import SPARQLWrapper, JSON, XML\n",
    "import pandas as pd\n",
    "import json\n",
    "import time\n",
    "import bookquery\n",
    "import os\n",
    "import io\n",
    "import json\n",
    "from tqdm import tqdm\n",
    "from os.path import join,isfile\n",
    "from os import listdir\n",
    "from collections import Counter\n",
    "import dask\n",
    "\n",
    "\n",
    "def counter_for_files(path):\n",
    "    \n",
    "    \"\"\"Подсчет файлов в директории\"\"\"\n",
    "        \n",
    "    onlyfiles = [join(path, f) for f in listdir(path) if isfile(join(path, f))]\n",
    "    return onlyfiles"
   ]
  },
  {
   "cell_type": "code",
   "execution_count": 11,
   "metadata": {},
   "outputs": [],
   "source": [
    "def creating_file(file):\n",
    "    filename = file.split('\\\\')[1].split('.')[0]\n",
    "    if f\"{filename}_without_zeros\" in list(map(lambda x: x.split('\\\\')[1].split('.')[0] , counter_for_files(r\"excel_with_subclasses/without_zeros\"))):\n",
    "        return\n",
    "    xl = pd.ExcelFile(file)\n",
    "    for i in range(len(xl.sheet_names)):\n",
    "        res = []\n",
    "        df = xl.parse(xl.sheet_names[i])\n",
    "        df = df[df[\"count_P31\"]>0]\n",
    "        if len(df)==0:\n",
    "            return\n",
    "        if i==0:\n",
    "            df.to_excel(f'excel_with_subclasses/without_zeros/{filename}_without_zeros.xlsx', sheet_name = xl.sheet_names[i] ,encoding='utf-8-sig' , index = False)\n",
    "        else:\n",
    "            with pd.ExcelWriter(f'excel_with_subclasses/without_zeros/{filename}_without_zeros.xlsx' ,  engine=\"openpyxl\" , mode  = 'a') as writer:\n",
    "                df.to_excel(writer, sheet_name = xl.sheet_names[i] , encoding='utf-8-sig' , index = False)\n",
    "        "
   ]
  },
  {
   "cell_type": "code",
   "execution_count": 12,
   "metadata": {},
   "outputs": [
    {
     "name": "stderr",
     "output_type": "stream",
     "text": [
      "100%|████████████████████████████████████████████████████████████████████████████████████| 1/1 [00:00<00:00, 11.76it/s]\n"
     ]
    }
   ],
   "source": [
    "for file in tqdm(counter_for_files(r\"excel_with_subclasses/with_count\")[1:2]):\n",
    "    creating_file(file)"
   ]
  },
  {
   "cell_type": "code",
   "execution_count": null,
   "metadata": {},
   "outputs": [],
   "source": []
  }
 ],
 "metadata": {
  "kernelspec": {
   "display_name": "Python 3",
   "language": "python",
   "name": "python3"
  },
  "language_info": {
   "codemirror_mode": {
    "name": "ipython",
    "version": 3
   },
   "file_extension": ".py",
   "mimetype": "text/x-python",
   "name": "python",
   "nbconvert_exporter": "python",
   "pygments_lexer": "ipython3",
   "version": "3.7.4"
  }
 },
 "nbformat": 4,
 "nbformat_minor": 4
}
