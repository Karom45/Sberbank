{
 "cells": [
  {
   "cell_type": "code",
   "execution_count": null,
   "metadata": {},
   "outputs": [],
   "source": [
    "ua = UserAgent()\n",
    "res = []\n",
    "bad_requests = []\n",
    "\n",
    "def execute_query(qquery, entity_id):\n",
    "    sparql = SPARQLWrapper(\"https://query.wikidata.org/sparql\", agent = ua.random)\n",
    "    sparql.setQuery(qquery.format(entity_id = entity_id))\n",
    "    sparql.setReturnFormat(JSON)\n",
    "    results = sparql.query().convert()\n",
    "    return results['results']['bindings']\n",
    "\n",
    "def entities_sparqul(entity_id, f = 0):\n",
    "        res = []\n",
    "        if f > 5:\n",
    "            global bad_requests\n",
    "            bad_requests.append(entity_id)\n",
    "            print('Bad request ', entity_id)\n",
    "            return None, None, None\n",
    "        try:\n",
    "            results = execute_query(bookquery.entity_finding, entity_id)\n",
    "            showLabel = results[0]['showLabel']['value']\n",
    "            show = results[0]['show']['value']\n",
    "            for result in results:\n",
    "                entities = {}\n",
    "                item, itemLabel = result['item']['value'], result['itemLabel']['value']\n",
    "                entities['entity'] = item.split('/')[-1]\n",
    "                entities['label'] = itemLabel  \n",
    "                res.append(entities)\n",
    "            return pd.DataFrame(data = res, columns = ['entity', 'label']), showLabel, show.split('/')[-1]\n",
    "        except Exception as e:\n",
    "            time.sleep(5)\n",
    "            print('Try again ', entity_id, f)\n",
    "            print(f'Exception in {entity_id}: {e}')\n",
    "            return entities_sparqul(entity_id, f + 1)\n",
    "        \n",
    "def file_creation(entity_id):\n",
    "    res, showLabel, show = entities_sparqul(entity_id)\n",
    "    if not os.path.exists(f'C:/Users/User/Desktop/Sparql/entities_{showLabel}_{show}.csv') and not os.path.exists(f'C:/Users/User/Desktop/Sparql/data/entities_{showLabel}_{show}.csv') and show != None:\n",
    "        res.to_csv(f'C:/Users/User/Desktop/Sparql/entities_{showLabel}_{show}.csv', sep = ';', encoding='utf-8-sig', index = False)"
   ]
  },
  {
   "cell_type": "code",
   "execution_count": null,
   "metadata": {},
   "outputs": [],
   "source": [
    "xl = pd.read_excel('C:/Users/User/Desktop/Sparql/Entities.xlsx')\n",
    "exl = exl[exl['subclass_weight'] == 2]\n",
    "for i in exl['subclass']:\n",
    "    res.append(dask.delayed(file_creation)(i))\n",
    "final_dataframe = dask.compute(*res)"
   ]
  }
 ],
 "metadata": {
  "kernelspec": {
   "display_name": "Python 3",
   "language": "python",
   "name": "python3"
  },
  "language_info": {
   "codemirror_mode": {
    "name": "ipython",
    "version": 3
   },
   "file_extension": ".py",
   "mimetype": "text/x-python",
   "name": "python",
   "nbconvert_exporter": "python",
   "pygments_lexer": "ipython3",
   "version": "3.7.4"
  }
 },
 "nbformat": 4,
 "nbformat_minor": 4
}
