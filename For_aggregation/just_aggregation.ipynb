{
 "cells": [
  {
   "cell_type": "code",
   "execution_count": 3,
   "metadata": {},
   "outputs": [],
   "source": [
    "from fake_useragent import UserAgent\n",
    "from os.path import join,isfile\n",
    "from os import listdir\n",
    "import dask\n",
    "from SPARQLWrapper import SPARQLWrapper, JSON\n",
    "import pandas as pd\n",
    "from collections import Counter\n",
    "import json\n",
    "import re\n",
    "import time\n",
    "import sys\n",
    "import os\n",
    "import datetime\n",
    "\n",
    "def counter_for_files(path):# Нахождение файлов в директории\n",
    "    onlyfiles = [join(path, f) for f in listdir(path) if isfile(join(path, f))]\n",
    "    return onlyfiles"
   ]
  },
  {
   "cell_type": "code",
   "execution_count": 69,
   "metadata": {},
   "outputs": [],
   "source": [
    "def finding_popular(most_popular):# Обработка 5% наиболее популярных сущностей\n",
    "    if len(most_popular) * 0.05 < 10:\n",
    "        return list(most_popular.iloc[:10].entity)\n",
    "    elif len(most_popular) * 0.05 >= 100:\n",
    "        return list(most_popular.iloc[:100].entity)\n",
    "    else:\n",
    "        return list(most_popular.iloc[:int(len(most_popular) * 0.05)].entity)\n",
    "    \n",
    "def aggregation(name):\n",
    "    stats_df = pd.read_csv(f'analyzed_entities_{name}.csv',encoding='utf8',sep=';')\n",
    "    most_popular = pd.read_csv(f'entities_{name}_with_popularity.csv',encoding='utf8',sep=';')\n",
    "    length = len(most_popular)\n",
    "    most_popular = finding_popular(most_popular)\n",
    "    print(len(most_popular))\n",
    "    print(length)\n",
    "    def filter_func(x):\n",
    "        return x['entity_id'].max() in most_popular\n",
    "    \n",
    "    popular_stats = stats_df.groupby('entity_id').filter(filter_func).groupby('prop_name').sum().sort_values(by = ['prop_count','prop_count_value'],ascending = False)\n",
    "    popular_stats['prop_counter'] = popular_stats['prop_count']/len(most_popular) * 100\n",
    "    popular_stats.to_csv(f'entities_{name}_aggregated_with_popularity.csv', encoding='utf-8-sig',sep = ';')\n",
    "    \n",
    "    stats_aggregated = stats_df.groupby('prop_name').sum().sort_values(by = ['prop_count','prop_count_value'],ascending = False)\n",
    "    stats_aggregated['prop_counter'] = stats_aggregated['prop_count']/length * 100\n",
    "    stats_aggregated.to_csv(f'entities_{name}_aggregated.csv', encoding='utf-8-sig',sep = ';')\n",
    "    \n"
   ]
  },
  {
   "cell_type": "code",
   "execution_count": 70,
   "metadata": {},
   "outputs": [
    {
     "name": "stdout",
     "output_type": "stream",
     "text": [
      "11\n",
      "229\n"
     ]
    }
   ],
   "source": [
    "name = counter_for_files(os.getcwd())[0].split('\\\\')[-1].split('.')[0].split('_')[-2:]\n",
    "name = '_'.join(name)\n",
    "aggregation(name)"
   ]
  },
  {
   "cell_type": "code",
   "execution_count": 68,
   "metadata": {},
   "outputs": [],
   "source": [
    "stats_df = pd.read_csv(f'analyzed_entities_country_Q6256.csv',encoding='utf8',sep=';')\n",
    "sset = set(['from' , 'to'])\n",
    "for k,v in stats_df.iterrows():\n",
    "    if list(stats_df[(stats_df.prop_dir == (sset - set([v['prop_dir']])).pop()) & (stats_df.entity_id == v.entity_id) & (stats_df.prop_name == v.prop_name)].prop_name) != []:\n",
    "        ind = list(stats_df[stats_df.prop_dir == (sset - set([v['prop_dir']])).pop()].index)[0]\n",
    "        stats_df.loc[ind , 'prop_count_value'] += v.prop_count_value\n",
    "        stats_df.drop(k, inplace=True)\n",
    "        \n",
    "# stats_df['prop_count'] = 1\n",
    "stats_df.to_csv(f'analyzed_entities_country_Q6256.csv',encoding='utf-8-sig',sep=';' , index = False)\n",
    "\n",
    "most_popular = pd.read_csv(f'entities_country_Q6256_with_popularity.csv',encoding='utf8',sep=';')\n",
    "most_popular.sort_values(by = ['popularity'],ascending = False).to_csv(f'entities_country_Q6256_with_popularity.csv',encoding='utf-8-sig',sep=';', index = False)\n"
   ]
  },
  {
   "cell_type": "code",
   "execution_count": null,
   "metadata": {},
   "outputs": [],
   "source": []
  }
 ],
 "metadata": {
  "kernelspec": {
   "display_name": "Python 3",
   "language": "python",
   "name": "python3"
  },
  "language_info": {
   "codemirror_mode": {
    "name": "ipython",
    "version": 3
   },
   "file_extension": ".py",
   "mimetype": "text/x-python",
   "name": "python",
   "nbconvert_exporter": "python",
   "pygments_lexer": "ipython3",
   "version": "3.7.4"
  }
 },
 "nbformat": 4,
 "nbformat_minor": 2
}
