{
 "cells": [
  {
   "cell_type": "code",
   "execution_count": 1,
   "metadata": {},
   "outputs": [],
   "source": [
    "from fake_useragent import UserAgent\n",
    "from SPARQLWrapper import SPARQLWrapper, JSON, XML\n",
    "import bookquery2\n",
    "import copy\n",
    "import pandas as pd"
   ]
  },
  {
   "cell_type": "code",
   "execution_count": 2,
   "metadata": {},
   "outputs": [],
   "source": [
    "ua = UserAgent()\n",
    "rubbish = []\n",
    "\n",
    "def execute_query(qquery, entity_id):\n",
    "    sparql = SPARQLWrapper(\"https://query.wikidata.org/sparql\", agent = ua.random)\n",
    "    sparql.setQuery(qquery.format(entity_id = entity_id))\n",
    "    sparql.setReturnFormat(JSON)\n",
    "    results = sparql.query().convert()\n",
    "    return results['results']['bindings']\n",
    "\n",
    "def execute_query2(qquery, entity_id, prop_id):\n",
    "    sparql = SPARQLWrapper(\"https://query.wikidata.org/sparql\", agent = ua.random)\n",
    "    sparql.setQuery(qquery.format(entity_id = entity_id, prop_id = prop_id))\n",
    "    sparql.setReturnFormat(JSON)\n",
    "    results = sparql.query().convert()\n",
    "    return results['results']['bindings']\n",
    "\n",
    "def aaa(resul, d, prop_id, qid_from_list):\n",
    "    for res in resul:\n",
    "        qid = res['item']['value'].split('/')[-1]\n",
    "        qid_label = res['itemLabel']['value']\n",
    "        if not prop_id in d[qid_from_list]:\n",
    "            d[qid_from_list][prop_id] = []\n",
    "        d[qid_from_list][prop_id].append(qid + '_' + qid_label)\n",
    "        if qid == 'Q4164871' or qid == 'Q355567':\n",
    "            return d\n",
    "        instance = execute_query2(bookquery2.answer, qid, 'P31')\n",
    "        subclass = execute_query2(bookquery2.answer, qid, 'P279')\n",
    "        for r in instance:\n",
    "            prop_id = 'P31'\n",
    "            if not prop_id in d[qid_from_list]:\n",
    "                d[qid_from_list][prop_id] = []\n",
    "            d[qid_from_list][prop_id].append(r['item']['value'].split('/')[-1] + '_' + r['itemLabel']['value'])\n",
    "            if r['item']['value'].split('/')[-1] == 'Q4164871' or r['item']['value'].split('/')[-1] == 'Q355567':\n",
    "                return d\n",
    "            else:\n",
    "                instance = execute_query2(bookquery2.answer, r['item']['value'].split('/')[-1], 'P31')\n",
    "                subclass = execute_query2(bookquery2.answer, r['item']['value'].split('/')[-1], 'P279')\n",
    "                for r2 in instance:\n",
    "                    if r2['item']['value'].split('/')[-1] == 'Q4164871' or r2['item']['value'].split('/')[-1] == 'Q355567':\n",
    "                        prop_id = 'P31'\n",
    "                        if not prop_id in d[qid_from_list]:\n",
    "                            d[qid_from_list][prop_id] = []\n",
    "                        d[qid_from_list][prop_id].append(r2['item']['value'].split('/')[-1] + '_' + r2['itemLabel']['value'])\n",
    "                        return d\n",
    "                for s2 in subclass:\n",
    "                    if s2['item']['value'].split('/')[-1] == 'Q4164871' or s2['item']['value'].split('/')[-1] == 'Q355567':\n",
    "                        prop_id = 'P279'\n",
    "                        if not prop_id in d[qid_from_list]:\n",
    "                            d[qid_from_list][prop_id] = []\n",
    "                        d[qid_from_list][prop_id].append(s2['item']['value'].split('/')[-1] + '_' + s2['itemLabel']['value'])\n",
    "                        return d\n",
    "        for s in subclass:\n",
    "            prop_id = 'P279'\n",
    "            if not prop_id in d[qid_from_list]:\n",
    "                d[qid_from_list][prop_id] = []\n",
    "            d[qid_from_list][prop_id].append(s['item']['value'].split('/')[-1] + '_' + s['itemLabel']['value'])\n",
    "            if s['item']['value'].split('/')[-1] == 'Q4164871' or s['item']['value'].split('/')[-1] == 'Q355567':\n",
    "                return d\n",
    "            else:\n",
    "                instance = execute_query2(bookquery2.answer, s['item']['value'].split('/')[-1], 'P31')\n",
    "                subclass = execute_query2(bookquery2.answer, s['item']['value'].split('/')[-1], 'P279')\n",
    "                for r2 in instance:\n",
    "                    if r2['item']['value'].split('/')[-1] == 'Q4164871' or r2['item']['value'].split('/')[-1] == 'Q355567':\n",
    "                        prop_id = 'P31'\n",
    "                        if not prop_id in d[qid_from_list]:\n",
    "                            d[qid_from_list][prop_id] = []\n",
    "                        d[qid_from_list][prop_id].append(r2['item']['value'].split('/')[-1] + '_' + r2['itemLabel']['value'])\n",
    "                        return d\n",
    "                for s2 in subclass:\n",
    "                    if s2['item']['value'].split('/')[-1] == 'Q4164871' or s2['item']['value'].split('/')[-1] == 'Q355567':\n",
    "                        prop_id = 'P279'\n",
    "                        if not prop_id in d[qid_from_list]:\n",
    "                            d[qid_from_list][prop_id] = []\n",
    "                        d[qid_from_list][prop_id].append(s2['item']['value'].split('/')[-1] + '_' + s2['itemLabel']['value'])\n",
    "                        return d\n",
    "        return 1\n",
    "\n",
    "def entities_sparqul(d, entity_id, qid_from_list):\n",
    "    global parent\n",
    "    try:\n",
    "        prop_id = 'P360'\n",
    "        resul = execute_query(bookquery2.answer_qualif, entity_id)\n",
    "        if resul != []:\n",
    "            return aaa(resul, d, prop_id, qid_from_list)\n",
    "        resul = execute_query2(bookquery2.answer, entity_id, prop_id)\n",
    "        if resul != []:\n",
    "            return aaa(resul, d, prop_id, qid_from_list)\n",
    "        prop_id = 'P31'\n",
    "        resul = execute_query2(bookquery2.answer, entity_id, prop_id)\n",
    "        if resul != []:\n",
    "            return aaa(resul, d, prop_id, qid_from_list)\n",
    "        prop_id = 'P279'\n",
    "        resul = execute_query2(bookquery2.answer, entity_id, prop_id)\n",
    "        if resul != []:\n",
    "            return aaa(resul, d, prop_id, qid_from_list)\n",
    "        return 1\n",
    "    except Exception as e:\n",
    "        print(f'Exception in {entity_id}: {e}')\n",
    "\n",
    "def history(history_list):\n",
    "    final = {}\n",
    "    final['nodes'] = []\n",
    "    for qid in history_list:\n",
    "        global rubbish \n",
    "        parent = []\n",
    "        d = {}\n",
    "        n = 1\n",
    "        d[qid] = {}\n",
    "        k = entities_sparqul(d, qid, qid)\n",
    "        if k != 1:\n",
    "            d = copy.deepcopy(k)\n",
    "            final['nodes'].append(d)\n",
    "        else:\n",
    "            rubbish.append(qid)\n",
    "#         print(d)\n",
    "    return final"
   ]
  },
  {
   "cell_type": "code",
   "execution_count": 3,
   "metadata": {},
   "outputs": [],
   "source": [
    "entities = pd.read_excel('all_links.xlsx')"
   ]
  },
  {
   "cell_type": "code",
   "execution_count": 4,
   "metadata": {},
   "outputs": [],
   "source": [
    "x=entities[20000:25000]"
   ]
  },
  {
   "cell_type": "code",
   "execution_count": 5,
   "metadata": {},
   "outputs": [
    {
     "name": "stdout",
     "output_type": "stream",
     "text": [
      "Exception in Q2826232: Remote end closed connection without response\n",
      "Wall time: 2h 51min 16s\n"
     ]
    }
   ],
   "source": [
    "%%time\n",
    "final = history(x[0].tolist())"
   ]
  },
  {
   "cell_type": "code",
   "execution_count": 6,
   "metadata": {
    "scrolled": true
   },
   "outputs": [
    {
     "data": {
      "text/plain": [
       "{'nodes': [{'Q2467416': {'P31': ['Q4164871_должность']}},\n",
       "  None,\n",
       "  {'Q181217': {'P31': ['Q355567_дворянский титул']}},\n",
       "  {'Q388962': {'P360': ['Q20018034_президент Южно-Африканской Республики (Трансвааля)'],\n",
       "    'P31': ['Q4164871_должность']}},\n",
       "  {'Q7241300': {'P31': ['Q4164871_должность']}},\n",
       "  {'Q7243305': {'P31': ['Q4164871_должность']}},\n",
       "  {'Q98998118': {'P360': ['Q452581_Ашантихене'],\n",
       "    'P31': ['Q4164871_должность']}},\n",
       "  {'Q6314366': {'P31': ['Q43893109_Military junta of Bolivia'],\n",
       "    'P279': ['Q294414_публичная должность', 'Q4164871_должность']}},\n",
       "  {'Q3248968': {'P360': ['Q37349_Далай-лама'], 'P31': ['Q4164871_должность']}},\n",
       "  {'Q5532174': {'P31': ['Q4164871_должность']}},\n",
       "  {'Q1139938': {'P31': ['Q4164871_должность']}},\n",
       "  {'Q20388005': {'P360': ['Q850168_король Саудовской Аравии'],\n",
       "    'P31': ['Q80096233_информационный список',\n",
       "     'Q42045197_наследственная должность'],\n",
       "    'P279': ['Q4164871_должность']}},\n",
       "  {'Q865728': {'P31': ['Q4164871_должность']}},\n",
       "  {'Q6622089': {'P360': ['Q48352_глава государства'],\n",
       "    'P279': ['Q372436_государственный деятель',\n",
       "     'Q294414_публичная должность',\n",
       "     'Q4164871_должность']}},\n",
       "  {'Q6898092': {'P31': ['Q4164871_должность']}},\n",
       "  {'Q3253507': {'P360': ['Q64759776_Prefect of Mayotte'],\n",
       "    'P31': ['Q4164871_должность']}},\n",
       "  {'Q188942': {'P31': ['Q3320743_почётное звание'],\n",
       "    'P279': ['Q618779_награда', 'Q4189293_звание', 'Q4164871_должность']}},\n",
       "  {'Q969659': {'P360': ['Q56611785_Premier of Bermuda'],\n",
       "    'P31': ['Q294414_публичная должность'],\n",
       "    'P279': ['Q4164871_должность']}},\n",
       "  {'Q3128427': {'P360': ['Q63092159_Colonial and departmental heads of New Caledonia'],\n",
       "    'P31': ['Q4164871_должность']}},\n",
       "  {'Q7241281': {'P279': ['Q30461_президент'], 'P31': ['Q4164871_должность']}},\n",
       "  {'Q5453780': {'P31': ['Q4164871_должность']}},\n",
       "  {'Q2114953': {'P31': ['Q4164871_должность']}},\n",
       "  {'Q3128423': {'P31': ['Q4164871_должность']}},\n",
       "  {'Q5096845': {'P31': ['Q4164871_должность']}},\n",
       "  {'Q5096851': {'P31': ['Q4164871_должность']}},\n",
       "  {'Q96785422': {'P360': ['Q3276067_Список руководителей Южного Вьетнама'],\n",
       "    'P31': ['Q4164871_должность']}},\n",
       "  {'Q9381532': {'P31': ['Q4164871_должность']}},\n",
       "  {'Q3657870': {'P31': ['Q4164871_должность']}},\n",
       "  {'Q6898107': {'P31': ['Q4164871_должность']}},\n",
       "  {'Q5589634': {'P31': ['Q4164871_должность']}},\n",
       "  {'Q6898087': {'P31': ['Q4164871_должность']}},\n",
       "  {'Q3503632': {'P31': ['Q4164871_должность']}},\n",
       "  {'Q305198': {'P31': ['Q3320743_почётное звание'],\n",
       "    'P279': ['Q618779_награда', 'Q4189293_звание', 'Q4164871_должность']}},\n",
       "  {'Q1785759': {'P360': ['Q641589_Генерал-губернатор Индии'],\n",
       "    'P31': ['Q4164871_должность']}},\n",
       "  {'Q7243301': {'P31': ['Q4164871_должность']}},\n",
       "  {'Q26082453': {'P31': ['Q4164871_должность']}},\n",
       "  {'Q855602': {'P31': ['Q4164871_должность']}},\n",
       "  {'Q268218': {'P31': ['Q4164871_должность']}},\n",
       "  {'Q3496104': {'P279': ['Q43292_султан'], 'P31': ['Q4164871_должность']}},\n",
       "  {'Q2649311': {'P31': ['Q4164871_должность']}},\n",
       "  {'Q7636765': {'P279': ['Q43292_султан'], 'P31': ['Q4164871_должность']}},\n",
       "  {'Q5769444': {'P31': ['Q4164871_должность']}},\n",
       "  {'Q1142289': {'P360': ['Q15063567_Великий визирь Османской империи'],\n",
       "    'P31': ['Q4164871_должность']}},\n",
       "  {'Q6412197': {'P31': ['Q4164871_должность']}},\n",
       "  {'Q6412254': {'P31': ['Q294414_публичная должность'],\n",
       "    'P279': ['Q4164871_должность']}},\n",
       "  {'Q16931742': {'P31': ['Q4164871_должность']}},\n",
       "  {'Q1788734': {'P31': ['Q4164871_должность']}},\n",
       "  {'Q2618625': {'P31': ['Q355567_дворянский титул']}},\n",
       "  {'Q6624676': {'P31': ['Q4164871_должность']}},\n",
       "  {'Q2483184': {'P31': ['Q4164871_должность']}},\n",
       "  {'Q271148': {'P31': ['Q5737899_наследственный титул'],\n",
       "    'P279': ['Q355567_дворянский титул']}},\n",
       "  {'Q1048318': {'P31': ['Q4164871_должность']}},\n",
       "  {'Q15217354': {'P279': ['Q11997597_представитель'],\n",
       "    'P31': ['Q4164871_должность']}},\n",
       "  {'Q695843': {'P31': ['Q4164871_должность']}},\n",
       "  {'Q781518': {'P279': ['Q651267_тулку'],\n",
       "    'P31': ['Q355567_дворянский титул']}},\n",
       "  {'Q7240356': {'P31': ['Q294414_публичная должность'],\n",
       "    'P279': ['Q4164871_должность']}},\n",
       "  {'Q7241266': {'P31': ['Q4164871_должность']}},\n",
       "  {'Q5068105': {'P31': ['Q4164871_должность']}},\n",
       "  {'Q7241329': {'P31': ['Q4164871_должность']}},\n",
       "  {'Q4109081': {'P31': ['Q4164871_должность']}},\n",
       "  {'Q6594831': {'P360': ['Q1321109_председатель Национального совета Австрии'],\n",
       "    'P31': ['Q4164871_должность']}},\n",
       "  {'Q2042497': {'P31': ['Q188628_совет директоров'],\n",
       "    'P279': ['Q938236_комитет', 'Q4164871_должность']}},\n",
       "  {'Q7241262': {'P31': ['Q4164871_должность']}},\n",
       "  {'Q5747983': {'P31': ['Q4164871_должность']}},\n",
       "  {'Q5369523': {'P31': ['Q4164871_должность']}},\n",
       "  {'Q390720': {'P360': ['Q18060652_губернатор Кубы'],\n",
       "    'P31': ['Q4164871_должность']}},\n",
       "  {'Q3432460': {'P31': ['Q355567_дворянский титул']}},\n",
       "  {'Q4919873': {'P360': ['Q116_монарх'],\n",
       "    'P31': ['Q12737077_род занятий', 'Q355567_дворянский титул']}},\n",
       "  {'Q5373953': {'P31': ['Q3320743_почётное звание'],\n",
       "    'P279': ['Q618779_награда', 'Q4189293_звание', 'Q4164871_должность']}}]}"
      ]
     },
     "execution_count": 6,
     "metadata": {},
     "output_type": "execute_result"
    }
   ],
   "source": [
    "final"
   ]
  },
  {
   "cell_type": "code",
   "execution_count": 7,
   "metadata": {},
   "outputs": [],
   "source": [
    "import json\n",
    "with open(\"position1.json\", \"w\") as write_file:\n",
    "    json.dump(final, write_file, ensure_ascii=False)"
   ]
  },
  {
   "cell_type": "code",
   "execution_count": 8,
   "metadata": {},
   "outputs": [],
   "source": [
    "x=entities[25000:30000]"
   ]
  },
  {
   "cell_type": "code",
   "execution_count": 13,
   "metadata": {},
   "outputs": [
    {
     "name": "stdout",
     "output_type": "stream",
     "text": [
      "Exception in Q2077264: QueryBadFormed: a bad request has been sent to the endpoint, probably the sparql query is bad formed. \n",
      "\n",
      "Response:\n",
      "b'SPARQL-QUERY: queryStr=SELECT ?item ?itemLabel ?show ?showLabel\\nWHERE{\\n  BIND(wd:Q2077264.ttl?flavor=dump&revision=1205866525 as ?show)\\n  BIND(p:P31 as ?p)\\n  BIND(ps:P31 as ?ps)\\n    ?show ?p [?ps ?item];\\n    SERVICE wikibase:label { bd:serviceParam wikibase:language \"ru, en\". }\\n}\\njava.util.concurrent.ExecutionException: org.openrdf.query.MalformedQueryException: Encountered \" <VAR1> \"?flavor \"\" at line 3, column 23.\\nWas expecting one of:\\n    \"=\" ...\\n    \"!=\" ...\\n    \">\" ...\\n    \"<\" ...\\n    \"<=\" ...\\n    \">=\" ...\\n    \"||\" ...\\n    \"&&\" ...\\n    \"+\" ...\\n    \"-\" ...\\n    \"*\" ...\\n    \"/\" ...\\n    \"as\" ...\\n    \"in\" ...\\n    \"not in\" ...\\n    <INTEGER_POSITIVE> ...\\n    <INTEGER_NEGATIVE> ...\\n    <DECIMAL_POSITIVE> ...\\n    <DECIMAL_NEGATIVE> ...\\n    <DOUBLE_POSITIVE> ...\\n    <DOUBLE_NEGATIVE> ...\\n    \\n\\tat java.util.concurrent.FutureTask.report(FutureTask.java:122)\\n\\tat java.util.concurrent.FutureTask.get(FutureTask.java:206)\\n\\tat com.bigdata.rdf.sail.webapp.BigdataServlet.submitApiTask(BigdataServlet.java:292)\\n\\tat com.bigdata.rdf.sail.webapp.QueryServlet.doSparqlQuery(QueryServlet.java:678)\\n\\tat com.bigdata.rdf.sail.webapp.QueryServlet.doGet(QueryServlet.java:290)\\n\\tat com.bigdata.rdf.sail.webapp.RESTServlet.doGet(RESTServlet.java:240)\\n\\tat com.bigdata.rdf.sail.webapp.MultiTenancyServlet.doGet(MultiTenancyServlet.java:273)\\n\\tat javax.servlet.http.HttpServlet.service(HttpServlet.java:687)\\n\\tat javax.servlet.http.HttpServlet.service(HttpServlet.java:790)\\n\\tat org.eclipse.jetty.servlet.ServletHolder.handle(ServletHolder.java:865)\\n\\tat org.eclipse.jetty.servlet.ServletHandler$CachedChain.doFilter(ServletHandler.java:1655)\\n\\tat org.wikidata.query.rdf.blazegraph.throttling.ThrottlingFilter.doFilter(ThrottlingFilter.java:320)\\n\\tat org.eclipse.jetty.servlet.ServletHandler$CachedChain.doFilter(ServletHandler.java:1642)\\n\\tat org.wikidata.query.rdf.blazegraph.throttling.SystemOverloadFilter.doFilter(SystemOverloadFilter.java:82)\\n\\tat org.eclipse.jetty.servlet.ServletHandler$CachedChain.doFilter(ServletHandler.java:1642)\\n\\tat ch.qos.logback.classic.helpers.MDCInsertingServletFilter.doFilter(MDCInsertingServletFilter.java:49)\\n\\tat org.eclipse.jetty.servlet.ServletHandler$CachedChain.doFilter(ServletHandler.java:1642)\\n\\tat org.wikidata.query.rdf.blazegraph.filters.QueryEventSenderFilter.doFilter(QueryEventSenderFilter.java:117)\\n\\tat org.eclipse.jetty.servlet.ServletHandler$CachedChain.doFilter(ServletHandler.java:1642)\\n\\tat org.wikidata.query.rdf.blazegraph.filters.ClientIPFilter.doFilter(ClientIPFilter.java:43)\\n\\tat org.eclipse.jetty.servlet.ServletHandler$CachedChain.doFilter(ServletHandler.java:1642)\\n\\tat org.wikidata.query.rdf.blazegraph.filters.RealAgentFilter.doFilter(RealAgentFilter.java:33)\\n\\tat org.eclipse.jetty.servlet.ServletHandler$CachedChain.doFilter(ServletHandler.java:1634)\\n\\tat org.eclipse.jetty.servlet.ServletHandler.doHandle(ServletHandler.java:533)\\n\\tat org.eclipse.jetty.server.handler.ScopedHandler.handle(ScopedHandler.java:146)\\n\\tat org.eclipse.jetty.security.SecurityHandler.handle(SecurityHandler.java:548)\\n\\tat org.eclipse.jetty.server.handler.HandlerWrapper.handle(HandlerWrapper.java:132)\\n\\tat org.eclipse.jetty.server.handler.ScopedHandler.nextHandle(ScopedHandler.java:257)\\n\\tat org.eclipse.jetty.server.session.SessionHandler.doHandle(SessionHandler.java:1595)\\n\\tat org.eclipse.jetty.server.handler.ScopedHandler.nextHandle(ScopedHandler.java:255)\\n\\tat org.eclipse.jetty.server.handler.ContextHandler.doHandle(ContextHandler.java:1340)\\n\\tat org.eclipse.jetty.server.handler.ScopedHandler.nextScope(ScopedHandler.java:203)\\n\\tat org.eclipse.jetty.servlet.ServletHandler.doScope(ServletHandler.java:473)\\n\\tat org.eclipse.jetty.server.session.SessionHandler.doScope(SessionHandler.java:1564)\\n\\tat org.eclipse.jetty.server.handler.ScopedHandler.nextScope(ScopedHandler.java:201)\\n\\tat org.eclipse.jetty.server.handler.ContextHandler.doScope(ContextHandler.java:1242)\\n\\tat org.eclipse.jetty.server.handler.ScopedHandler.handle(ScopedHandler.java:144)\\n\\tat org.eclipse.jetty.server.handler.ContextHandlerCollection.handle(ContextHandlerCollection.java:220)\\n\\tat org.eclipse.jetty.server.handler.HandlerCollection.handle(HandlerCollection.java:126)\\n\\tat org.eclipse.jetty.server.handler.HandlerWrapper.handle(HandlerWrapper.java:132)\\n\\tat org.eclipse.jetty.server.Server.handle(Server.java:503)\\n\\tat org.eclipse.jetty.server.HttpChannel.handle(HttpChannel.java:364)\\n\\tat org.eclipse.jetty.server.HttpConnection.onFillable(HttpConnection.java:260)\\n\\tat org.eclipse.jetty.io.AbstractConnection$ReadCallback.succeeded(AbstractConnection.java:305)\\n\\tat org.eclipse.jetty.io.FillInterest.fillable(FillInterest.java:103)\\n\\tat org.eclipse.jetty.io.ChannelEndPoint$2.run(ChannelEndPoint.java:118)\\n\\tat org.eclipse.jetty.util.thread.strategy.EatWhatYouKill.runTask(EatWhatYouKill.java:333)\\n\\tat org.eclipse.jetty.util.thread.strategy.EatWhatYouKill.doProduce(EatWhatYouKill.java:310)\\n\\tat org.eclipse.jetty.util.thread.strategy.EatWhatYouKill.tryProduce(EatWhatYouKill.java:168)\\n\\tat org.eclipse.jetty.util.thread.strategy.EatWhatYouKill.run(EatWhatYouKill.java:126)\\n\\tat org.eclipse.jetty.util.thread.ReservedThreadExecutor$ReservedThread.run(ReservedThreadExecutor.java:366)\\n\\tat org.eclipse.jetty.util.thread.QueuedThreadPool.runJob(QueuedThreadPool.java:765)\\n\\tat org.eclipse.jetty.util.thread.QueuedThreadPool$2.run(QueuedThreadPool.java:683)\\n\\tat java.lang.Thread.run(Thread.java:748)\\nCaused by: org.openrdf.query.MalformedQueryException: Encountered \" <VAR1> \"?flavor \"\" at line 3, column 23.\\nWas expecting one of:\\n    \"=\" ...\\n    \"!=\" ...\\n    \">\" ...\\n    \"<\" ...\\n    \"<=\" ...\\n    \">=\" ...\\n    \"||\" ...\\n    \"&&\" ...\\n    \"+\" ...\\n    \"-\" ...\\n    \"*\" ...\\n    \"/\" ...\\n    \"as\" ...\\n    \"in\" ...\\n    \"not in\" ...\\n    <INTEGER_POSITIVE> ...\\n    <INTEGER_NEGATIVE> ...\\n    <DECIMAL_POSITIVE> ...\\n    <DECIMAL_NEGATIVE> ...\\n    <DOUBLE_POSITIVE> ...\\n    <DOUBLE_NEGATIVE> ...\\n    \\n\\tat com.bigdata.rdf.sail.sparql.Bigdata2ASTSPARQLParser.parseQuery2(Bigdata2ASTSPARQLParser.java:400)\\n\\tat com.bigdata.rdf.sail.webapp.QueryServlet$SparqlQueryTask.call(QueryServlet.java:741)\\n\\tat com.bigdata.rdf.sail.webapp.QueryServlet$SparqlQueryTask.call(QueryServlet.java:695)\\n\\tat com.bigdata.rdf.task.ApiTaskForIndexManager.call(ApiTaskForIndexManager.java:68)\\n\\tat java.util.concurrent.FutureTask.run(FutureTask.java:266)\\n\\tat java.util.concurrent.ThreadPoolExecutor.runWorker(ThreadPoolExecutor.java:1149)\\n\\tat java.util.concurrent.ThreadPoolExecutor$Worker.run(ThreadPoolExecutor.java:624)\\n\\t... 1 more\\nCaused by: com.bigdata.rdf.sail.sparql.ast.ParseException: Encountered \" <VAR1> \"?flavor \"\" at line 3, column 23.\\nWas expecting one of:\\n    \"=\" ...\\n    \"!=\" ...\\n    \">\" ...\\n    \"<\" ...\\n    \"<=\" ...\\n    \">=\" ...\\n    \"||\" ...\\n    \"&&\" ...\\n    \"+\" ...\\n    \"-\" ...\\n    \"*\" ...\\n    \"/\" ...\\n    \"as\" ...\\n    \"in\" ...\\n    \"not in\" ...\\n    <INTEGER_POSITIVE> ...\\n    <INTEGER_NEGATIVE> ...\\n    <DECIMAL_POSITIVE> ...\\n    <DECIMAL_NEGATIVE> ...\\n    <DOUBLE_POSITIVE> ...\\n    <DOUBLE_NEGATIVE> ...\\n    \\n\\tat com.bigdata.rdf.sail.sparql.ast.SyntaxTreeBuilder.generateParseException(SyntaxTreeBuilder.java:9722)\\n\\tat com.bigdata.rdf.sail.sparql.ast.SyntaxTreeBuilder.jj_consume_token(SyntaxTreeBuilder.java:9589)\\n\\tat com.bigdata.rdf.sail.sparql.ast.SyntaxTreeBuilder.Bind(SyntaxTreeBuilder.java:7023)\\n\\tat com.bigdata.rdf.sail.sparql.ast.SyntaxTreeBuilder.FilterOrBind(SyntaxTreeBuilder.java:2251)\\n\\tat com.bigdata.rdf.sail.sparql.ast.SyntaxTreeBuilder.BasicGraphPattern(SyntaxTreeBuilder.java:2161)\\n\\tat com.bigdata.rdf.sail.sparql.ast.SyntaxTreeBuilder.GraphPattern(SyntaxTreeBuilder.java:2034)\\n\\tat com.bigdata.rdf.sail.sparql.ast.SyntaxTreeBuilder.GroupGraphPattern(SyntaxTreeBuilder.java:1969)\\n\\tat com.bigdata.rdf.sail.sparql.ast.SyntaxTreeBuilder.WhereClause(SyntaxTreeBuilder.java:1013)\\n\\tat com.bigdata.rdf.sail.sparql.ast.SyntaxTreeBuilder.SelectQuery(SyntaxTreeBuilder.java:377)\\n\\tat com.bigdata.rdf.sail.sparql.ast.SyntaxTreeBuilder.Query(SyntaxTreeBuilder.java:328)\\n\\tat com.bigdata.rdf.sail.sparql.ast.SyntaxTreeBuilder.QueryContainer(SyntaxTreeBuilder.java:216)\\n\\tat com.bigdata.rdf.sail.sparql.ast.SyntaxTreeBuilder.parseQuery(SyntaxTreeBuilder.java:32)\\n\\tat com.bigdata.rdf.sail.sparql.Bigdata2ASTSPARQLParser.parseQuery2(Bigdata2ASTSPARQLParser.java:336)\\n\\t... 7 more\\n'\n"
     ]
    },
    {
     "name": "stdout",
     "output_type": "stream",
     "text": [
      "Wall time: 3h 57s\n"
     ]
    }
   ],
   "source": [
    "%%time\n",
    "final1 = history(x[0].tolist())"
   ]
  },
  {
   "cell_type": "code",
   "execution_count": 15,
   "metadata": {},
   "outputs": [],
   "source": [
    "import json\n",
    "with open(\"position2.json\", \"w\",encoding='utf8') as write_file:\n",
    "    json.dump(final1, write_file, ensure_ascii=False)"
   ]
  },
  {
   "cell_type": "code",
   "execution_count": 16,
   "metadata": {},
   "outputs": [],
   "source": [
    "x=entities[30000:35000]"
   ]
  },
  {
   "cell_type": "code",
   "execution_count": 17,
   "metadata": {},
   "outputs": [
    {
     "name": "stdout",
     "output_type": "stream",
     "text": [
      "Wall time: 3h 1min 43s\n"
     ]
    }
   ],
   "source": [
    "%%time\n",
    "final2 = history(x[0].tolist())"
   ]
  },
  {
   "cell_type": "code",
   "execution_count": 18,
   "metadata": {},
   "outputs": [],
   "source": [
    "import json\n",
    "with open(\"position3.json\", \"w\",encoding='utf8') as write_file:\n",
    "    json.dump(final2, write_file, ensure_ascii=False)"
   ]
  },
  {
   "cell_type": "code",
   "execution_count": 19,
   "metadata": {},
   "outputs": [],
   "source": [
    "x=entities[35000:45000]"
   ]
  },
  {
   "cell_type": "code",
   "execution_count": 20,
   "metadata": {},
   "outputs": [
    {
     "name": "stdout",
     "output_type": "stream",
     "text": [
      "Wall time: 7h 36min\n"
     ]
    }
   ],
   "source": [
    "%%time\n",
    "final3 = history(x[0].tolist())"
   ]
  },
  {
   "cell_type": "code",
   "execution_count": 21,
   "metadata": {},
   "outputs": [],
   "source": [
    "with open(\"position4.json\", \"w\",encoding='utf8') as write_file:\n",
    "    json.dump(final3, write_file, ensure_ascii=False)"
   ]
  },
  {
   "cell_type": "code",
   "execution_count": null,
   "metadata": {},
   "outputs": [],
   "source": []
  }
 ],
 "metadata": {
  "kernelspec": {
   "display_name": "Python 3",
   "language": "python",
   "name": "python3"
  },
  "language_info": {
   "codemirror_mode": {
    "name": "ipython",
    "version": 3
   },
   "file_extension": ".py",
   "mimetype": "text/x-python",
   "name": "python",
   "nbconvert_exporter": "python",
   "pygments_lexer": "ipython3",
   "version": "3.7.4"
  }
 },
 "nbformat": 4,
 "nbformat_minor": 4
}
