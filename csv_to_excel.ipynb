{
 "cells": [
  {
   "cell_type": "code",
   "execution_count": 5,
   "metadata": {},
   "outputs": [],
   "source": [
    "import pandas as pd\n",
    "from os.path import join,isfile\n",
    "from os import listdir\n",
    "import os\n",
    "import dask\n",
    "\n",
    "def counter_for_files(path):\n",
    "    \n",
    "    \"\"\"Подсчет файлов в директории\"\"\"\n",
    "    \n",
    "    onlyfiles = [join(path, f) for f in listdir(path) if isfile(join(path, f))]\n",
    "    return onlyfiles"
   ]
  },
  {
   "cell_type": "code",
   "execution_count": 6,
   "metadata": {},
   "outputs": [],
   "source": [
    "def csv_to_excel(filename):\n",
    "    \n",
    "    \"\"\"Изменение типа файла csv->xlsx\"\"\"\n",
    "    filename = filename.split('.')[0]\n",
    "    df = pd.read_csv(filename + r'.csv', sep = ';')\n",
    "    df['signifance'] =''\n",
    "    df.to_excel(filename + r'.xlsx' ,index = False,encoding='utf-8-sig')"
   ]
  },
  {
   "cell_type": "code",
   "execution_count": 7,
   "metadata": {},
   "outputs": [],
   "source": [
    "res = []\n",
    "path = join(os.getcwd(), r'Information\\2\\analyzing\\aggregated\\Predicates')\n",
    "for filename in counter_for_files(path):\n",
    "    res.append(dask.delayed(csv_to_excel)(filename))\n",
    "result = dask.compute(*res)"
   ]
  },
  {
   "cell_type": "code",
   "execution_count": null,
   "metadata": {},
   "outputs": [],
   "source": []
  }
 ],
 "metadata": {
  "kernelspec": {
   "display_name": "Python 3",
   "language": "python",
   "name": "python3"
  },
  "language_info": {
   "codemirror_mode": {
    "name": "ipython",
    "version": 3
   },
   "file_extension": ".py",
   "mimetype": "text/x-python",
   "name": "python",
   "nbconvert_exporter": "python",
   "pygments_lexer": "ipython3",
   "version": "3.7.4"
  }
 },
 "nbformat": 4,
 "nbformat_minor": 2
}
