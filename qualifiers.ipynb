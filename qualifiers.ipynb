{
 "cells": [
  {
   "cell_type": "code",
   "execution_count": 1,
   "metadata": {},
   "outputs": [],
   "source": [
    "from fake_useragent import UserAgent\n",
    "from os.path import join,isfile\n",
    "from os import listdir\n",
    "import dask\n",
    "from SPARQLWrapper import SPARQLWrapper, JSON\n",
    "import pandas as pd\n",
    "import time\n",
    "import bookquery\n",
    "import sys\n",
    "import os\n",
    "import datetime\n",
    "from tqdm import tqdm_notebook\n",
    "\n",
    "ua = UserAgent()#Прокси\n",
    "\n",
    "def counter_for_files(path):\n",
    "    \"\"\"\n",
    "    Подсчет файлов в директории\n",
    "    \"\"\"\n",
    "        \n",
    "    onlyfiles = [join(path, f) for f in listdir(path) if isfile(join(path, f))]\n",
    "    return onlyfiles\n",
    "\n",
    "def execute_query(qquery, entity_id , property_id):# Работа с запросами\n",
    "    \n",
    "    \"\"\"Работа с запросами\"\"\"\n",
    "    \n",
    "    sparql = SPARQLWrapper(\"https://query.wikidata.org/sparql\",agent = ua.random)\n",
    "    sparql.setQuery(qquery.format(entity_id = entity_id , property_id = property_id))\n",
    "    sparql.setReturnFormat(JSON)\n",
    "    results = sparql.query().convert()\n",
    "    return results['results']['bindings']\n",
    "\n",
    "def entities_sparql(results):\n",
    "    \n",
    "    \"\"\"Обработка запроса\"\"\"\n",
    "    \n",
    "    res = []\n",
    "    for result in results:# Обработка вернувшегося запрсов\n",
    "        entities = {}\n",
    "        entities['qualifier_id'] = result['unit']['value'].split('/')[-1]\n",
    "        entities['qualifier'] = result['unitLabel']['value']\n",
    "        entities['value'] = 1\n",
    "    return entities#Возвращаем Датафрейм и название сущности"
   ]
  },
  {
   "cell_type": "code",
   "execution_count": 2,
   "metadata": {},
   "outputs": [],
   "source": [
    "def processing(entity_id , qualifier , f = 0):\n",
    "    if f>5:\n",
    "        print(entity_id)\n",
    "        return None\n",
    "    try:\n",
    "        resu = entities_sparql(execute_query(bookquery.qualifier_finder, entity_id , qualifier))\n",
    "        return resu\n",
    "    except UnboundLocalError as e:\n",
    "        return None\n",
    "    except Exception as e:\n",
    "        time.sleep(3)\n",
    "        return processing(entity_id,qualifier, f+1)\n",
    "    \n",
    "    \n",
    "def file_processing(file , qualifier):\n",
    "    result =[]\n",
    "    SIZE = 1000\n",
    "    df = pd.read_csv(file , encoding='utf8',sep = ';')\n",
    "    for k,v in  df[:SIZE].iterrows():\n",
    "        result.append(dask.delayed(processing)(v['entity'] , qualifier))\n",
    "    data = list(filter(None , dask.compute(*result)))\n",
    "    results = pd.DataFrame(data = data)\n",
    "    return results"
   ]
  },
  {
   "cell_type": "code",
   "execution_count": 4,
   "metadata": {},
   "outputs": [
    {
     "data": {
      "application/vnd.jupyter.widget-view+json": {
       "model_id": "99e15d3c5fa14491a70993eb2badc720",
       "version_major": 2,
       "version_minor": 0
      },
      "text/plain": [
       "HBox(children=(IntProgress(value=0, description='predicates', max=1, style=ProgressStyle(description_width='in…"
      ]
     },
     "metadata": {},
     "output_type": "display_data"
    },
    {
     "data": {
      "application/vnd.jupyter.widget-view+json": {
       "model_id": "97aaa06a4be74d87a4d7174515d0ae1c",
       "version_major": 2,
       "version_minor": 0
      },
      "text/plain": [
       "HBox(children=(IntProgress(value=0, description='files', max=78, style=ProgressStyle(description_width='initia…"
      ]
     },
     "metadata": {},
     "output_type": "display_data"
    },
    {
     "name": "stdout",
     "output_type": "stream",
     "text": [
      "\n",
      "\n",
      "Wall time: 16min 54s\n"
     ]
    }
   ],
   "source": [
    "%%time\n",
    "predicates = {'численность населения':'население'}\n",
    "\n",
    "# qualifier = 'P2046'\n",
    "\n",
    "def qualifier_finder(predicate,predicate_name):\n",
    "    path = join(os.getcwd() , r'Information\\2\\data\\data_with_popularity')\n",
    "    dff = pd.read_csv(r'csv\\Properties.csv' , encoding='utf-8-sig',sep=';')\n",
    "    for k,v in dff.iterrows():\n",
    "        if v['label'].lower() == predicate.lower():\n",
    "            qualifier = v['property']\n",
    "            break\n",
    "    main_df = pd.DataFrame()\n",
    "    for file in tqdm_notebook(counter_for_files(path) , desc = 'files'):\n",
    "        df = file_processing(file , qualifier)\n",
    "        main_df = pd.concat([main_df,df])\n",
    "    count = len(main_df)\n",
    "    main_df = main_df.groupby(['qualifier_id','qualifier']).sum().sort_values(by = 'value',ascending = False)\n",
    "    main_df.reset_index(inplace = True)\n",
    "    main_df = main_df[['qualifier' , 'qualifier_id' , 'value']]\n",
    "    main_df['value , %'] = round(main_df['value']/count * 100 , 2)\n",
    "    try:\n",
    "        with pd.ExcelWriter(r'csv\\Qualifiers.xlsx' ,  engine=\"openpyxl\" , mode  = 'a') as writer:\n",
    "            main_df.to_excel(writer, sheet_name = f'{predicate_name}({qualifier})' , encoding='utf-8-sig' , index = False)\n",
    "    except FileNotFoundError:\n",
    "        main_df.to_excel(r'csv\\Qualifiers.xlsx', sheet_name = f'{predicate_name}({qualifier})'\n",
    "                         ,encoding='utf-8-sig' , index = False)\n",
    "        \n",
    "for k,v in tqdm_notebook(predicates.items() , desc = 'predicates'):\n",
    "    qualifier_finder(k,v)"
   ]
  },
  {
   "cell_type": "code",
   "execution_count": null,
   "metadata": {},
   "outputs": [],
   "source": [
    "'длина':'длина' ,\n",
    "              'ширина': 'ширина', \n",
    "              'высота над уровнем моря': 'высота над уровнем моря',\n",
    "              'относительная высота' : 'относительная высота',\n",
    "              f'высота/рост':'высота,рост',\n",
    "              'вертикальная глубина': 'глубина' ,\n",
    "              'площадь': 'площадь' ,"
   ]
  },
  {
   "cell_type": "code",
   "execution_count": null,
   "metadata": {},
   "outputs": [],
   "source": []
  }
 ],
 "metadata": {
  "kernelspec": {
   "display_name": "Python 3",
   "language": "python",
   "name": "python3"
  },
  "language_info": {
   "codemirror_mode": {
    "name": "ipython",
    "version": 3
   },
   "file_extension": ".py",
   "mimetype": "text/x-python",
   "name": "python",
   "nbconvert_exporter": "python",
   "pygments_lexer": "ipython3",
   "version": "3.7.4"
  }
 },
 "nbformat": 4,
 "nbformat_minor": 2
}
